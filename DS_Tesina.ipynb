{
  "nbformat": 4,
  "nbformat_minor": 0,
  "metadata": {
    "kernelspec": {
      "display_name": "Python 3",
      "language": "python",
      "name": "python3"
    },
    "language_info": {
      "codemirror_mode": {
        "name": "ipython",
        "version": 3
      },
      "file_extension": ".py",
      "mimetype": "text/x-python",
      "name": "python",
      "nbconvert_exporter": "python",
      "pygments_lexer": "ipython3",
      "version": "3.7.3"
    },
    "colab": {
      "name": "DS_Tesina.ipynb",
      "provenance": [],
      "collapsed_sections": []
    }
  },
  "cells": [
    {
      "cell_type": "markdown",
      "metadata": {
        "id": "wCrs8ojW2Jpk",
        "colab_type": "text"
      },
      "source": [
        "<h1> Data Spaces' Tesina <h1>"
      ]
    },
    {
      "cell_type": "markdown",
      "metadata": {
        "id": "GO224RoA2Jpl",
        "colab_type": "text"
      },
      "source": [
        "<p>Imports section<p>"
      ]
    },
    {
      "cell_type": "code",
      "metadata": {
        "id": "UiAbswaq2Jpl",
        "colab_type": "code",
        "outputId": "893f2df6-b18d-4ddb-f835-96162f16dea0",
        "colab": {
          "base_uri": "https://localhost:8080/",
          "height": 104
        }
      },
      "source": [
        "import numpy as np\n",
        "import pandas as pd\n",
        "import seaborn as sn\n",
        "import scipy as sp\n",
        "from imblearn.over_sampling import SMOTE\n",
        "from sklearn import neighbors, model_selection, metrics, preprocessing\n",
        "from sklearn.decomposition import PCA\n",
        "from sklearn.metrics import classification_report\n",
        "from sklearn.linear_model import LogisticRegression\n",
        "from sklearn.ensemble import RandomForestClassifier\n",
        "from sklearn.svm import SVC\n",
        "from sklearn.model_selection import GridSearchCV\n",
        "from matplotlib import pyplot as plt\n",
        "from scipy import stats\n",
        "from scipy.spatial.distance import mahalanobis"
      ],
      "execution_count": 22,
      "outputs": [
        {
          "output_type": "stream",
          "text": [
            "/usr/local/lib/python3.6/dist-packages/sklearn/externals/six.py:31: FutureWarning: The module is deprecated in version 0.21 and will be removed in version 0.23 since we've dropped support for Python 2.7. Please rely on the official version of six (https://pypi.org/project/six/).\n",
            "  \"(https://pypi.org/project/six/).\", FutureWarning)\n",
            "/usr/local/lib/python3.6/dist-packages/sklearn/utils/deprecation.py:144: FutureWarning: The sklearn.neighbors.base module is  deprecated in version 0.22 and will be removed in version 0.24. The corresponding classes / functions should instead be imported from sklearn.neighbors. Anything that cannot be imported from sklearn.neighbors is now part of the private API.\n",
            "  warnings.warn(message, FutureWarning)\n"
          ],
          "name": "stderr"
        }
      ]
    },
    {
      "cell_type": "markdown",
      "metadata": {
        "id": "HKXDB4_yG_X0",
        "colab_type": "text"
      },
      "source": [
        "Check class balance function"
      ]
    },
    {
      "cell_type": "code",
      "metadata": {
        "id": "Hr5droWoHIvN",
        "colab_type": "code",
        "colab": {}
      },
      "source": [
        "def checkClassBalance(data_tgt):\n",
        "  class1 = data_tgt[data_tgt == 2]\n",
        "  class2 = data_tgt[data_tgt == 4]\n",
        "  plt.hist(class1, color='blue', width=0.5)\n",
        "  plt.hist(class2, color='green', width=0.5)\n",
        "  plt.show()\n",
        "  print(\"Percentage of 2 and 4 are: \", class1.shape[0]/data_tgt.shape[0]*100, \"% and \", class2.shape[0]/data_tgt.shape[0]*100,\"%\")"
      ],
      "execution_count": 0,
      "outputs": []
    },
    {
      "cell_type": "markdown",
      "metadata": {
        "id": "XgXw6Hd12Jpr",
        "colab_type": "text"
      },
      "source": [
        "Find and remove outliers using Malahanobis Distance functions\n",
        "Apply this function just to the Training set."
      ]
    },
    {
      "cell_type": "code",
      "metadata": {
        "id": "ah3JvEVm2Jps",
        "colab_type": "code",
        "colab": {}
      },
      "source": [
        "def mahalanobisDist(X,meanCol,IC):\n",
        "  # calculate Mahalanobis distance for each row of the dataset\n",
        "    m = []\n",
        "    for i in range(X.shape[0]):\n",
        "        m.append(mahalanobis(X.iloc[i,:],meanCol,IC) ** 2)\n",
        "    return(m)\n",
        "\n",
        "def detectOutliersMD(MD, data, extreme=False):\n",
        "  std = np.std(MD)\n",
        "\n",
        "  # I'll use te 68-95-99.7 rule to detect outliers\n",
        "\n",
        "  k = 3. *std if extreme else 2. * std\n",
        "  m = np.mean(MD)\n",
        "  up_t = m+k\n",
        "  low_t = m-k \n",
        "\n",
        "  outliers = []\n",
        "\n",
        "  for i in range(len(MD)):\n",
        "    if (MD[i] >= up_t or MD[i] <= low_t):\n",
        "      outliers.append(i) #index\n",
        "  return np.array(outliers)\n",
        "\n",
        "def detectAndDeleteOutliers(data, tgt):\n",
        "\n",
        "  Sx = data.cov().values\n",
        "  Sx = sp.linalg.inv(Sx)\n",
        "\n",
        "  mean = data.mean().values\n",
        "\n",
        "  mR = mahalanobisDist(data,mean,Sx)\n",
        "\n",
        "  outliers = detectOutliersMD(mR, x)\n",
        "\n",
        "  cleanDs = data.reset_index(drop=True)\n",
        "  cleanTgt = tgt.reset_index(drop=True)\n",
        "\n",
        "#  for o in outliers:\n",
        "  cleanDs = cleanDs.drop(index=outliers)\n",
        "  cleanTgt = cleanTgt.drop(index=outliers)\n",
        "\n",
        "  print(\"Dataset size before OD: \", data.shape[0], \" dataset size after OD: \", cleanDs.shape[0])\n",
        "\n",
        "  return cleanDs, cleanTgt\n"
      ],
      "execution_count": 0,
      "outputs": []
    },
    {
      "cell_type": "markdown",
      "metadata": {
        "id": "YAFD6QCe2Jpo",
        "colab_type": "text"
      },
      "source": [
        "<p> Read .csv file <p>"
      ]
    },
    {
      "cell_type": "code",
      "metadata": {
        "scrolled": false,
        "id": "JdEyBvh12Jpp",
        "colab_type": "code",
        "colab": {}
      },
      "source": [
        "filename = \"https://raw.githubusercontent.com/Vaelthur/DataSpaces_Tesina/master/breast-cancer-wisconsin.data\"\n",
        "\n",
        "\n",
        "data = pd.read_csv(filename)\n",
        "\n",
        "labels = [\"Sample Number\",\"Clump Thickness\", \"Uniformity of Cell Size\", \"Uniformity of Cell Shape\", \"Marginal Adhesion\", \"Single Epithelial Cell Size\", \"Bare Nuclei\", \"Bland Chromatin\", \"Normal Nucleoli\", \n",
        "\"Mitoses\", \"Class\"]\n",
        "\n",
        "# assing labels to columns\n",
        "data.columns = labels\n",
        "\n",
        "# records with the classification as \"2\" are Benign cancer, \"2\" means malign Cancer."
      ],
      "execution_count": 0,
      "outputs": []
    },
    {
      "cell_type": "markdown",
      "metadata": {
        "id": "HzBW2CNPCvC1",
        "colab_type": "text"
      },
      "source": [
        "Detecting if there are any missing value "
      ]
    },
    {
      "cell_type": "code",
      "metadata": {
        "id": "R6fLq2GiCuor",
        "colab_type": "code",
        "outputId": "039f662f-9166-436e-8425-d620cf4d2963",
        "colab": {
          "base_uri": "https://localhost:8080/",
          "height": 151
        }
      },
      "source": [
        "print(\"Raw data as taken from repo:\")\n",
        "print(data.shape)\n",
        "data = (data.drop(labels,axis=1)).join(data[labels].apply(pd.to_numeric, errors='coerce'))\n",
        "data = data[data[labels].notnull().all(axis=1)]\n",
        "print(\"\\nData without null values\")\n",
        "print(data.shape)\n",
        "\n",
        "# remove first column as it is just sample number that identify the patient\n",
        "data = data.iloc[:, 1:11]\n",
        "print(\"\\nData without first Column \\\"Sample Number\\\"\")\n",
        "print(data.shape)\n",
        "\n",
        "# data without classification - needed for outlier detection\n",
        "x = data.iloc[:, 0:9]"
      ],
      "execution_count": 26,
      "outputs": [
        {
          "output_type": "stream",
          "text": [
            "Raw data as taken from repo:\n",
            "(698, 11)\n",
            "\n",
            "Data without null values\n",
            "(682, 11)\n",
            "\n",
            "Data without first Column \"Sample Number\"\n",
            "(682, 10)\n"
          ],
          "name": "stdout"
        }
      ]
    },
    {
      "cell_type": "markdown",
      "metadata": {
        "id": "CWTrLjA6Ob3H",
        "colab_type": "text"
      },
      "source": [
        "As stated in the dataset description there should have been some missing values, denoted by the non numerical value '?'. Knowing this I have been able to perform the search for missing value just looking for non-numerical values and (since there were just 16) dropping the corresponding rows. "
      ]
    },
    {
      "cell_type": "markdown",
      "metadata": {
        "id": "t3FYKtAoLzAu",
        "colab_type": "text"
      },
      "source": [
        "Observing the percentage of the two classes we can identify this dataset as imbalanced since the two classes go over the 60/40 ratio so it's not acceptable and we need to provide some more balance i.e.\n",
        "- stratifying when splitting into train and test\n",
        "- using library to artificially generate data to balance class, but new data must only be used during the training process and not during validation or test phases."
      ]
    },
    {
      "cell_type": "markdown",
      "metadata": {
        "id": "mOMyhUIonUq-",
        "colab_type": "text"
      },
      "source": [
        "<p>Correlation Matrix to study correlation between data.</p>"
      ]
    },
    {
      "cell_type": "code",
      "metadata": {
        "id": "17d4NxYLnUD0",
        "colab_type": "code",
        "outputId": "8ef578f9-aa02-4a05-f6bd-89851b5b853f",
        "colab": {
          "base_uri": "https://localhost:8080/",
          "height": 728
        }
      },
      "source": [
        "cm = data.corr() # Compute pairwise correlation of columns\n",
        "mask = np.array(cm)\n",
        "mask[np.tril_indices_from(mask)] = False\n",
        "fig = plt.gcf()\n",
        "fig.set_size_inches(25,10)\n",
        "sn.heatmap(data=cm, mask=mask, square=True, annot=True, cbar=True)"
      ],
      "execution_count": 27,
      "outputs": [
        {
          "output_type": "execute_result",
          "data": {
            "text/plain": [
              "<matplotlib.axes._subplots.AxesSubplot at 0x7f7fd77fa048>"
            ]
          },
          "metadata": {
            "tags": []
          },
          "execution_count": 27
        },
        {
          "output_type": "display_data",
          "data": {
            "image/png": "[encoded data removed]",
            "text/plain": [
              "<Figure size 1800x720 with 2 Axes>"
            ]
          },
          "metadata": {
            "tags": [],
            "needs_background": "light"
          }
        }
      ]
    },
    {
      "cell_type": "markdown",
      "metadata": {
        "id": "D43o8mUfy1Yg",
        "colab_type": "text"
      },
      "source": [
        "We can observe that the correlation coefficient with any feaure aren't that good respect to the label. In this way we are going to see which features are more correlated with each other respect to others. We can observe from here that Uniformity of cell size and uniformity of cell shape features are highly correlated so we can drop one."
      ]
    },
    {
      "cell_type": "code",
      "metadata": {
        "id": "WN6uXD37ELZR",
        "colab_type": "code",
        "colab": {}
      },
      "source": [
        "data.drop('Uniformity of Cell Size', axis=1, inplace=True)"
      ],
      "execution_count": 0,
      "outputs": []
    },
    {
      "cell_type": "markdown",
      "metadata": {
        "id": "elr82uRvXWcn",
        "colab_type": "text"
      },
      "source": [
        "Pairwise plot of class distinction"
      ]
    },
    {
      "cell_type": "code",
      "metadata": {
        "id": "03EBdN5cXb28",
        "colab_type": "code",
        "colab": {}
      },
      "source": [
        "sn.pairplot(data, hue='Class')"
      ],
      "execution_count": 0,
      "outputs": []
    },
    {
      "cell_type": "markdown",
      "metadata": {
        "id": "d2HEg1bF2Jpw",
        "colab_type": "text"
      },
      "source": [
        "Reading the dataset escription and observing the values inside it we can see that every feature is already scaled ina reange between 1 and 10, so we can affirm that data is already scaled because we have the same scale for each feature.\n",
        "\n",
        "Knowing this, the <b>preprocessing</b> phase consist just in the split between train and Test sets and the further Train set balancing."
      ]
    },
    {
      "cell_type": "code",
      "metadata": {
        "id": "_SX9Mcc_2Jpw",
        "colab_type": "code",
        "outputId": "6098a5f7-2ea9-4c0f-c811-8ad2636043b9",
        "colab": {
          "base_uri": "https://localhost:8080/",
          "height": 567
        }
      },
      "source": [
        "Y = data.iloc[:, 8]\n",
        "X = data.iloc[:, 0:8]\n",
        "\n",
        "X_train, X_test, Y_train, Y_test = model_selection.train_test_split(X, Y, random_state=np.random.randint(0,100), test_size=0.25, shuffle=True)\n",
        "\n",
        "checkClassBalance(Y_train)\n",
        "\n",
        "# edit function in order to get back also outliers and add them to test ds\n",
        "X_train, Y_train = detectAndDeleteOutliers(X_train, Y_train)\n",
        "\n",
        "checkClassBalance(Y_train)"
      ],
      "execution_count": 29,
      "outputs": [
        {
          "output_type": "display_data",
          "data": {
            "image/png": "[encoded data removed]",
            "text/plain": [
              "<Figure size 432x288 with 1 Axes>"
            ]
          },
          "metadata": {
            "tags": [],
            "needs_background": "light"
          }
        },
        {
          "output_type": "stream",
          "text": [
            "Percentage of 2 and 4 are:  65.36203522504891 % and  34.63796477495107 %\n",
            "Dataset size before OD:  511  dataset size after OD:  481\n"
          ],
          "name": "stdout"
        },
        {
          "output_type": "display_data",
          "data": {
            "image/png": "[encoded data removed]",
            "text/plain": [
              "<Figure size 432x288 with 1 Axes>"
            ]
          },
          "metadata": {
            "tags": [],
            "needs_background": "light"
          }
        },
        {
          "output_type": "stream",
          "text": [
            "Percentage of 2 and 4 are:  69.02286902286903 % and  30.97713097713098 %\n"
          ],
          "name": "stdout"
        }
      ]
    },
    {
      "cell_type": "markdown",
      "metadata": {
        "id": "qKATte1frOla",
        "colab_type": "text"
      },
      "source": [
        "Now that I have observed the difference in distribution between the two classes in my training set I have two options: I can either undersample my dataset or artifically augment it in order to have more training samples."
      ]
    },
    {
      "cell_type": "code",
      "metadata": {
        "id": "dEd95X2urL0t",
        "colab_type": "code",
        "colab": {
          "base_uri": "https://localhost:8080/",
          "height": 335
        },
        "outputId": "4b339acc-b56d-45b6-ea12-718082375468"
      },
      "source": [
        "# TODO: 1st attempt: augment training data and go on with classification\n",
        "\n",
        "oversample = SMOTE()\n",
        "X_train, Y_train = oversample.fit_resample(X,Y)\n",
        "\n",
        "checkClassBalance(Y_train)\n",
        "\n",
        "# TRY UNDERSAMPLE BC OVERSAMPLE OVERFITS"
      ],
      "execution_count": 30,
      "outputs": [
        {
          "output_type": "stream",
          "text": [
            "/usr/local/lib/python3.6/dist-packages/sklearn/utils/deprecation.py:87: FutureWarning: Function safe_indexing is deprecated; safe_indexing is deprecated in version 0.22 and will be removed in version 0.24.\n",
            "  warnings.warn(msg, category=FutureWarning)\n"
          ],
          "name": "stderr"
        },
        {
          "output_type": "display_data",
          "data": {
            "image/png": "[encoded data removed]",
            "text/plain": [
              "<Figure size 432x288 with 1 Axes>"
            ]
          },
          "metadata": {
            "tags": [],
            "needs_background": "light"
          }
        },
        {
          "output_type": "stream",
          "text": [
            "Percentage of 2 and 4 are:  50.0 % and  50.0 %\n"
          ],
          "name": "stdout"
        }
      ]
    },
    {
      "cell_type": "markdown",
      "metadata": {
        "id": "3oNmY3Wh2Jpy",
        "colab_type": "text"
      },
      "source": [
        "<p><u>K-NN</u></p>"
      ]
    },
    {
      "cell_type": "code",
      "metadata": {
        "id": "ynrm9pYY2Jpz",
        "colab_type": "code",
        "outputId": "3944bca4-9b1b-483c-814c-db050f092000",
        "colab": {
          "base_uri": "https://localhost:8080/",
          "height": 84
        }
      },
      "source": [
        "# array of possible K to apply KNN neighbors\n",
        "ks = [3,5,7,9]\n",
        "\n",
        "for k in ks:\n",
        "    n_neighbors = k\n",
        "    \n",
        "    # Create an instance of neighbors classifier (clf) and fit the data\n",
        "    clf = neighbors.KNeighborsClassifier(n_neighbors)\n",
        "    \n",
        "    # train the classifier on the training set\n",
        "    clf.fit(X_train, Y_train)\n",
        "    \n",
        "    print(\"Accuracy score on the test set with K =\",n_neighbors,\"is %.3f\" %(clf.score(X_test, Y_test)))\n",
        "\n",
        "\n",
        "    "
      ],
      "execution_count": 31,
      "outputs": [
        {
          "output_type": "stream",
          "text": [
            "Accuracy score on the test set with K = 3 is 0.982\n",
            "Accuracy score on the test set with K = 5 is 0.982\n",
            "Accuracy score on the test set with K = 7 is 0.982\n",
            "Accuracy score on the test set with K = 9 is 0.982\n"
          ],
          "name": "stdout"
        }
      ]
    },
    {
      "cell_type": "markdown",
      "metadata": {
        "id": "ZMIebd3i2Jp1",
        "colab_type": "text"
      },
      "source": [
        "<p><u>Logistic Regression</u><p>"
      ]
    },
    {
      "cell_type": "code",
      "metadata": {
        "id": "MF0n46z92Jp2",
        "colab_type": "code",
        "outputId": "ac971681-e564-4f9c-c3ba-7943f2d5abdc",
        "colab": {
          "base_uri": "https://localhost:8080/",
          "height": 185
        }
      },
      "source": [
        "logReg = LogisticRegression(solver=\"lbfgs\", max_iter=2000) # instance of the model\n",
        "\n",
        "logReg.fit(X_train, Y_train)\n",
        "\n",
        "# res = logReg.predict(X_test)\n",
        "\n",
        "print(\"Accuracy: \", logReg.score(X_test, Y_test))\n",
        "print(classification_report(Y_test, logReg.predict(X_test)))"
      ],
      "execution_count": 32,
      "outputs": [
        {
          "output_type": "stream",
          "text": [
            "Accuracy:  0.9766081871345029\n",
            "              precision    recall  f1-score   support\n",
            "\n",
            "           2       0.98      0.98      0.98       109\n",
            "           4       0.97      0.97      0.97        62\n",
            "\n",
            "    accuracy                           0.98       171\n",
            "   macro avg       0.97      0.97      0.97       171\n",
            "weighted avg       0.98      0.98      0.98       171\n",
            "\n"
          ],
          "name": "stdout"
        }
      ]
    },
    {
      "cell_type": "markdown",
      "metadata": {
        "id": "A9vmd3bY2Jp5",
        "colab_type": "text"
      },
      "source": [
        "<p><u> Random forest</u> </p>"
      ]
    },
    {
      "cell_type": "code",
      "metadata": {
        "scrolled": true,
        "id": "UoqXcIjn2Jp6",
        "colab_type": "code",
        "outputId": "008f325e-9f81-439f-90a6-f4c425c07398",
        "colab": {
          "base_uri": "https://localhost:8080/",
          "height": 185
        }
      },
      "source": [
        "rndFor = RandomForestClassifier(n_estimators = 100, criterion=\"entropy\")\n",
        "\n",
        "rndFor.fit(X_train, Y_train)\n",
        "\n",
        "y_pred = rndFor.predict(X_test)\n",
        "\n",
        "print(\"Accuracy: \", metrics.accuracy_score(Y_test, y_pred))\n",
        "print(classification_report(Y_test, rndFor.predict(X_test)))"
      ],
      "execution_count": 33,
      "outputs": [
        {
          "output_type": "stream",
          "text": [
            "Accuracy:  1.0\n",
            "              precision    recall  f1-score   support\n",
            "\n",
            "           2       1.00      1.00      1.00       109\n",
            "           4       1.00      1.00      1.00        62\n",
            "\n",
            "    accuracy                           1.00       171\n",
            "   macro avg       1.00      1.00      1.00       171\n",
            "weighted avg       1.00      1.00      1.00       171\n",
            "\n"
          ],
          "name": "stdout"
        }
      ]
    },
    {
      "cell_type": "markdown",
      "metadata": {
        "id": "0YABn3bm2Jp8",
        "colab_type": "text"
      },
      "source": [
        "<p><u> SVM</u> </p>"
      ]
    },
    {
      "cell_type": "code",
      "metadata": {
        "id": "kKKVE9E82Jp9",
        "colab_type": "code",
        "outputId": "8581ac59-ee76-4e9a-89b4-988ed7cdb4a9",
        "colab": {
          "base_uri": "https://localhost:8080/",
          "height": 185
        }
      },
      "source": [
        "svc = SVC(gamma='auto', kernel='rbf')\n",
        "svc.fit(X_train, Y_train)\n",
        "print(classification_report(Y_test, svc.predict(X_test)),\"\\n\")"
      ],
      "execution_count": 34,
      "outputs": [
        {
          "output_type": "stream",
          "text": [
            "              precision    recall  f1-score   support\n",
            "\n",
            "           2       1.00      0.98      0.99       109\n",
            "           4       0.97      1.00      0.98        62\n",
            "\n",
            "    accuracy                           0.99       171\n",
            "   macro avg       0.98      0.99      0.99       171\n",
            "weighted avg       0.99      0.99      0.99       171\n",
            " \n",
            "\n"
          ],
          "name": "stdout"
        }
      ]
    },
    {
      "cell_type": "markdown",
      "metadata": {
        "id": "CRaMOf5m2Jp_",
        "colab_type": "text"
      },
      "source": [
        "<p> So this is the accuracy with the default parameters, but with SVM approach is necessary to perform some parameters tuning in order to achieve a better result. To do so I relied on the GridSearch <p>\n",
        "<p><u> SVM with GridSearch </u></p>"
      ]
    },
    {
      "cell_type": "code",
      "metadata": {
        "scrolled": true,
        "id": "teTBZ_m42Jp_",
        "colab_type": "code",
        "outputId": "efdb4750-0612-45cc-949d-fa248d53bf0d",
        "colab": {
          "base_uri": "https://localhost:8080/",
          "height": 235
        }
      },
      "source": [
        "parameters = [{'C': [0.1, 0.2, 1, 10, 100, 1000], 'gamma': [0.0001, 0.001, 0.01, 0.1, 0.25, 1], 'kernel': ['rbf', 'poly', 'sigmoid']}]\n",
        "svcGS = GridSearchCV(SVC(), parameters, n_jobs=-1, cv=10)\n",
        "svcGS.fit(X_train, Y_train)\n",
        "\n",
        "print(classification_report(Y_test, svcGS.predict(X_test)),\"\\n\")\n",
        "\n",
        "print(\"Confusion Matrix\")\n",
        "print(metrics.confusion_matrix(Y_test, svcGS.predict(X_test)))"
      ],
      "execution_count": 35,
      "outputs": [
        {
          "output_type": "stream",
          "text": [
            "              precision    recall  f1-score   support\n",
            "\n",
            "           2       1.00      0.97      0.99       109\n",
            "           4       0.95      1.00      0.98        62\n",
            "\n",
            "    accuracy                           0.98       171\n",
            "   macro avg       0.98      0.99      0.98       171\n",
            "weighted avg       0.98      0.98      0.98       171\n",
            " \n",
            "\n",
            "Confusion Matrix\n",
            "[[106   3]\n",
            " [  0  62]]\n"
          ],
          "name": "stdout"
        }
      ]
    },
    {
      "cell_type": "markdown",
      "metadata": {
        "id": "c3m3Bod82JqB",
        "colab_type": "text"
      },
      "source": [
        "<p> The result above shows us a fuller report. </p>"
      ]
    },
    {
      "cell_type": "code",
      "metadata": {
        "id": "JZdbwtGW2JqB",
        "colab_type": "code",
        "colab": {}
      },
      "source": [
        ""
      ],
      "execution_count": 0,
      "outputs": []
    },
    {
      "cell_type": "code",
      "metadata": {
        "id": "ld3Vzf-S2JqD",
        "colab_type": "code",
        "colab": {}
      },
      "source": [
        ""
      ],
      "execution_count": 0,
      "outputs": []
    }
  ]
}