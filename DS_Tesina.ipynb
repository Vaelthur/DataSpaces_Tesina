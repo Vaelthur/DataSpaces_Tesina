{
  "nbformat": 4,
  "nbformat_minor": 0,
  "metadata": {
    "kernelspec": {
      "display_name": "Python 3",
      "language": "python",
      "name": "python3"
    },
    "language_info": {
      "codemirror_mode": {
        "name": "ipython",
        "version": 3
      },
      "file_extension": ".py",
      "mimetype": "text/x-python",
      "name": "python",
      "nbconvert_exporter": "python",
      "pygments_lexer": "ipython3",
      "version": "3.7.3"
    },
    "colab": {
      "name": "DS_Tesina.ipynb",
      "provenance": [],
      "collapsed_sections": []
    }
  },
  "cells": [
    {
      "cell_type": "markdown",
      "metadata": {
        "id": "wCrs8ojW2Jpk",
        "colab_type": "text"
      },
      "source": [
        "<h1> Data Spaces' Tesina <h1>"
      ]
    },
    {
      "cell_type": "markdown",
      "metadata": {
        "id": "GO224RoA2Jpl",
        "colab_type": "text"
      },
      "source": [
        "<p>Imports section<p>"
      ]
    },
    {
      "cell_type": "code",
      "metadata": {
        "id": "UiAbswaq2Jpl",
        "colab_type": "code",
        "outputId": "b6f00b2f-b5cc-436b-96cf-cfdf585bf469",
        "colab": {
          "base_uri": "https://localhost:8080/",
          "height": 52
        }
      },
      "source": [
        "import numpy as np\n",
        "import pandas as pd\n",
        "import seaborn as sn\n",
        "from sklearn import neighbors, model_selection, metrics, preprocessing\n",
        "from sklearn.decomposition import PCA\n",
        "from sklearn.metrics import classification_report\n",
        "from sklearn.linear_model import LogisticRegression\n",
        "from sklearn.ensemble import RandomForestClassifier\n",
        "from sklearn.svm import SVC\n",
        "from sklearn.model_selection import GridSearchCV\n",
        "from matplotlib import pyplot as plt"
      ],
      "execution_count": 1,
      "outputs": [
        {
          "output_type": "stream",
          "text": [
            "/usr/local/lib/python3.6/dist-packages/statsmodels/tools/_testing.py:19: FutureWarning: pandas.util.testing is deprecated. Use the functions in the public API at pandas.testing instead.\n",
            "  import pandas.util.testing as tm\n"
          ],
          "name": "stderr"
        }
      ]
    },
    {
      "cell_type": "markdown",
      "metadata": {
        "id": "YAFD6QCe2Jpo",
        "colab_type": "text"
      },
      "source": [
        "<p> Read .csv file <p>"
      ]
    },
    {
      "cell_type": "code",
      "metadata": {
        "scrolled": false,
        "id": "JdEyBvh12Jpp",
        "colab_type": "code",
        "colab": {}
      },
      "source": [
        "filename = \"https://raw.githubusercontent.com/Vaelthur/DataSpaces_Tesina/master/dataR2.csv\"\n",
        "\n",
        "data = pd.read_csv(filename)\n",
        "labels = data.columns\n",
        "\n",
        "# Let's divide data into source and target (respectively X and Y)\n",
        "X = data.iloc[:, 0:9]\n",
        "Y = data.iloc[:, 9]\n",
        "\n",
        "# records with the classification as \"1\" are Healthy Controls, \"2\" means Patients."
      ],
      "execution_count": 0,
      "outputs": []
    },
    {
      "cell_type": "markdown",
      "metadata": {
        "id": "XgXw6Hd12Jpr",
        "colab_type": "text"
      },
      "source": [
        "<p>Dataset Analysis - find and remove outliers</p>"
      ]
    },
    {
      "cell_type": "code",
      "metadata": {
        "id": "ah3JvEVm2Jps",
        "colab_type": "code",
        "outputId": "de80eb8f-fa3c-45a4-89c0-0198377eb7d2",
        "colab": {
          "base_uri": "https://localhost:8080/",
          "height": 1000
        }
      },
      "source": [
        "# plot outliers\n",
        "for feature in X.columns: \n",
        "  plt.bar(np.arange(X.shape[0]), X[feature], 0.5)\n",
        "  plt.title(feature)\n",
        "  plt.show()\n",
        "\n",
        "cleanDs = data\n",
        "\n",
        "# remove outliers\n",
        "for feature in X.columns:\n",
        "  df = X[feature]\n",
        "  sorted(df)\n",
        "  q1, q3= np.percentile(df,[25,75])\n",
        "  iqr = q3-q1\n",
        "  lower_bound = q1 -(1.5 * iqr) \n",
        "  upper_bound = q3 +(1.5 * iqr)\n",
        "  cleanDs = cleanDs[(cleanDs[feature]>lower_bound) & (cleanDs[feature]<upper_bound)]\n",
        "\n",
        "\n",
        "print(\"Without outliers the dimension of my database is \", cleanDs.shape[0], \" instead of \", X.shape[0])"
      ],
      "execution_count": 16,
      "outputs": [
        {
          "output_type": "display_data",
          "data": {
            "image/png": "[encoded data removed]",
            "text/plain": [
              "<Figure size 432x288 with 1 Axes>"
            ]
          },
          "metadata": {
            "tags": [],
            "needs_background": "light"
          }
        },
        {
          "output_type": "display_data",
          "data": {
            "image/png": "[encoded data removed]",
            "text/plain": [
              "<Figure size 432x288 with 1 Axes>"
            ]
          },
          "metadata": {
            "tags": [],
            "needs_background": "light"
          }
        },
        {
          "output_type": "display_data",
          "data": {
            "image/png": "[encoded data removed]",
            "text/plain": [
              "<Figure size 432x288 with 1 Axes>"
            ]
          },
          "metadata": {
            "tags": [],
            "needs_background": "light"
          }
        },
        {
          "output_type": "display_data",
          "data": {
            "image/png": "[encoded data removed]",
            "text/plain": [
              "<Figure size 432x288 with 1 Axes>"
            ]
          },
          "metadata": {
            "tags": [],
            "needs_background": "light"
          }
        },
        {
          "output_type": "display_data",
          "data": {
            "image/png": "[encoded data removed]",
            "text/plain": [
              "<Figure size 432x288 with 1 Axes>"
            ]
          },
          "metadata": {
            "tags": [],
            "needs_background": "light"
          }
        },
        {
          "output_type": "display_data",
          "data": {
            "image/png": "[encoded data removed]",
            "text/plain": [
              "<Figure size 432x288 with 1 Axes>"
            ]
          },
          "metadata": {
            "tags": [],
            "needs_background": "light"
          }
        },
        {
          "output_type": "display_data",
          "data": {
            "image/png": "[encoded data removed]",
            "text/plain": [
              "<Figure size 432x288 with 1 Axes>"
            ]
          },
          "metadata": {
            "tags": [],
            "needs_background": "light"
          }
        },
        {
          "output_type": "display_data",
          "data": {
            "image/png": "[encoded data removed]",
            "text/plain": [
              "<Figure size 432x288 with 1 Axes>"
            ]
          },
          "metadata": {
            "tags": [],
            "needs_background": "light"
          }
        },
        {
          "output_type": "display_data",
          "data": {
            "image/png": "[encoded data removed]",
            "text/plain": [
              "<Figure size 432x288 with 1 Axes>"
            ]
          },
          "metadata": {
            "tags": [],
            "needs_background": "light"
          }
        },
        {
          "output_type": "stream",
          "text": [
            "Without outliers the dimension of my database is  80  instead of  116\n"
          ],
          "name": "stdout"
        }
      ]
    },
    {
      "cell_type": "markdown",
      "metadata": {
        "id": "HKXDB4_yG_X0",
        "colab_type": "text"
      },
      "source": [
        "<p> Check and balance Data </p>"
      ]
    },
    {
      "cell_type": "code",
      "metadata": {
        "id": "Hr5droWoHIvN",
        "colab_type": "code",
        "outputId": "b7139d67-a2f0-40ab-970d-fbefd504f644",
        "colab": {
          "base_uri": "https://localhost:8080/",
          "height": 282
        }
      },
      "source": [
        "cleanDs = data\n",
        "Y = cleanDs.iloc[:, 9]\n",
        "ones = Y[Y == 1]\n",
        "twos = Y[Y == 2]\n",
        "plt.hist(ones, color='blue', width=0.5)\n",
        "plt.hist(twos, color='green', width=0.5)\n",
        "plt.show()\n",
        "print(\"Percentage of 1 and 2 are: \", ones.shape[0]/Y.shape[0]*100, \"% and \", twos.shape[0]/Y.shape[0]*100,\"%\")"
      ],
      "execution_count": 4,
      "outputs": [
        {
          "output_type": "display_data",
          "data": {
            "image/png": "[encoded data removed]",
            "text/plain": [
              "<Figure size 432x288 with 1 Axes>"
            ]
          },
          "metadata": {
            "tags": [],
            "needs_background": "light"
          }
        },
        {
          "output_type": "stream",
          "text": [
            "Percentage of 1 and 2 are:  44.827586206896555 % and  55.172413793103445 %\n"
          ],
          "name": "stdout"
        }
      ]
    },
    {
      "cell_type": "markdown",
      "metadata": {
        "id": "t3FYKtAoLzAu",
        "colab_type": "text"
      },
      "source": [
        "<p>Observing the percentage of the two classes we can identify this dataset as balanced since the two classes don't go over the 60/40 ratio so it's acceptable.</p>"
      ]
    },
    {
      "cell_type": "markdown",
      "metadata": {
        "id": "mOMyhUIonUq-",
        "colab_type": "text"
      },
      "source": [
        "<p>Correlation Matrix to study correlation between data.</p>"
      ]
    },
    {
      "cell_type": "code",
      "metadata": {
        "id": "17d4NxYLnUD0",
        "colab_type": "code",
        "outputId": "a497f006-2a48-403f-dab6-c090ade187b6",
        "colab": {
          "base_uri": "https://localhost:8080/",
          "height": 613
        }
      },
      "source": [
        "cm = cleanDs.corr() # Compute pairwise correlation of columns\n",
        "mask = np.array(cm)\n",
        "mask[np.tril_indices_from(mask)] = False\n",
        "fig = plt.gcf()\n",
        "fig.set_size_inches(25,10)\n",
        "sn.heatmap(data=cm, mask=mask, square=True, annot=True, cbar=True)"
      ],
      "execution_count": 5,
      "outputs": [
        {
          "output_type": "execute_result",
          "data": {
            "text/plain": [
              "<matplotlib.axes._subplots.AxesSubplot at 0x7f49b2bc2ac8>"
            ]
          },
          "metadata": {
            "tags": []
          },
          "execution_count": 5
        },
        {
          "output_type": "display_data",
          "data": {
            "image/png": "[encoded data removed]",
            "text/plain": [
              "<Figure size 1800x720 with 2 Axes>"
            ]
          },
          "metadata": {
            "tags": [],
            "needs_background": "light"
          }
        }
      ]
    },
    {
      "cell_type": "markdown",
      "metadata": {
        "id": "D43o8mUfy1Yg",
        "colab_type": "text"
      },
      "source": [
        "We can observe that the correlation coefficient with any feaure aren't that good respect to the label. In this way we are going to select the ones with an higher absolute value and discard the others, this way we should have a 'cleaner' dataset with less feature and without significant loss of information. "
      ]
    },
    {
      "cell_type": "code",
      "metadata": {
        "id": "WN6uXD37ELZR",
        "colab_type": "code",
        "colab": {}
      },
      "source": [
        "cleanDs.drop('Age', axis=1, inplace=True)\n",
        "cleanDs.drop('Insulin', axis=1, inplace=True)\n",
        "cleanDs.drop('HOMA', axis=1, inplace=True)\n",
        "cleanDs.drop('Adiponectin', axis=1, inplace=True)\n",
        "cleanDs.drop('MCP.1', axis=1, inplace=True)"
      ],
      "execution_count": 0,
      "outputs": []
    },
    {
      "cell_type": "markdown",
      "metadata": {
        "id": "d2HEg1bF2Jpw",
        "colab_type": "text"
      },
      "source": [
        "<p><p>Preprocessing<p></p>"
      ]
    },
    {
      "cell_type": "code",
      "metadata": {
        "id": "_SX9Mcc_2Jpw",
        "colab_type": "code",
        "colab": {
          "base_uri": "https://localhost:8080/",
          "height": 34
        },
        "outputId": "dbae11a8-a2ca-4496-b800-929603929e8a"
      },
      "source": [
        "# normalize data because algorithms work better with normalized data\n",
        "scaler = preprocessing.StandardScaler()\n",
        "cleanDs = scaler.fit_transform(cleanDs.drop('Classification', axis=1))\n",
        "\n",
        "X_train, X_test, Y_train, Y_test = model_selection.train_test_split(cleanDs, Y, random_state=np.random.randint(0,100), test_size=0.25, shuffle=True)\n",
        "\n",
        "print(X_train.shape)"
      ],
      "execution_count": 7,
      "outputs": [
        {
          "output_type": "stream",
          "text": [
            "(87, 4)\n"
          ],
          "name": "stdout"
        }
      ]
    },
    {
      "cell_type": "markdown",
      "metadata": {
        "id": "3oNmY3Wh2Jpy",
        "colab_type": "text"
      },
      "source": [
        "<p><u>K-NN</u></p>"
      ]
    },
    {
      "cell_type": "code",
      "metadata": {
        "id": "ynrm9pYY2Jpz",
        "colab_type": "code",
        "outputId": "534b750b-09b3-4a5d-f6d4-2dc7df50384b",
        "colab": {
          "base_uri": "https://localhost:8080/",
          "height": 86
        }
      },
      "source": [
        "# array of possible K to apply KNN neighbors\n",
        "ks = [3,5,7,9]\n",
        "\n",
        "for k in ks:\n",
        "    n_neighbors = k\n",
        "    \n",
        "    # Create an instance of neighbors classifier (clf) and fit the data\n",
        "    clf = neighbors.KNeighborsClassifier(n_neighbors)\n",
        "    \n",
        "    # train the classifier on the training set\n",
        "    clf.fit(X_train, Y_train)\n",
        "    \n",
        "    print(\"Accuracy score on the test set with K =\",n_neighbors,\"is %.3f\" %(clf.score(X_test, Y_test)))\n",
        "\n",
        "\n",
        "    "
      ],
      "execution_count": 8,
      "outputs": [
        {
          "output_type": "stream",
          "text": [
            "Accuracy score on the test set with K = 3 is 0.828\n",
            "Accuracy score on the test set with K = 5 is 0.793\n",
            "Accuracy score on the test set with K = 7 is 0.759\n",
            "Accuracy score on the test set with K = 9 is 0.724\n"
          ],
          "name": "stdout"
        }
      ]
    },
    {
      "cell_type": "markdown",
      "metadata": {
        "id": "ZMIebd3i2Jp1",
        "colab_type": "text"
      },
      "source": [
        "<p><u>Logistic Regression</u><p>"
      ]
    },
    {
      "cell_type": "code",
      "metadata": {
        "id": "MF0n46z92Jp2",
        "colab_type": "code",
        "outputId": "a0ca59b6-ec8a-4f61-eda3-9aaa4fb4eadf",
        "colab": {
          "base_uri": "https://localhost:8080/",
          "height": 191
        }
      },
      "source": [
        "logReg = LogisticRegression(solver=\"lbfgs\", max_iter=2000) # instance of the model\n",
        "\n",
        "logReg.fit(X_train, Y_train)\n",
        "\n",
        "# res = logReg.predict(X_test)\n",
        "\n",
        "print(\"Accuracy: \", logReg.score(X_test, Y_test))\n",
        "print(classification_report(Y_test, logReg.predict(X_test)))"
      ],
      "execution_count": 9,
      "outputs": [
        {
          "output_type": "stream",
          "text": [
            "Accuracy:  0.6896551724137931\n",
            "              precision    recall  f1-score   support\n",
            "\n",
            "           1       0.60      0.92      0.73        13\n",
            "           2       0.89      0.50      0.64        16\n",
            "\n",
            "    accuracy                           0.69        29\n",
            "   macro avg       0.74      0.71      0.68        29\n",
            "weighted avg       0.76      0.69      0.68        29\n",
            "\n"
          ],
          "name": "stdout"
        }
      ]
    },
    {
      "cell_type": "markdown",
      "metadata": {
        "id": "A9vmd3bY2Jp5",
        "colab_type": "text"
      },
      "source": [
        "<p><u> Random forest</u> </p>"
      ]
    },
    {
      "cell_type": "code",
      "metadata": {
        "scrolled": true,
        "id": "UoqXcIjn2Jp6",
        "colab_type": "code",
        "outputId": "46f127d6-de9c-4cd8-b766-3dc69980b591",
        "colab": {
          "base_uri": "https://localhost:8080/",
          "height": 191
        }
      },
      "source": [
        "rndFor = RandomForestClassifier(n_estimators = 100, criterion=\"entropy\")\n",
        "\n",
        "rndFor.fit(X_train, Y_train)\n",
        "\n",
        "y_pred = rndFor.predict(X_test)\n",
        "\n",
        "print(\"Accuracy: \", metrics.accuracy_score(Y_test, y_pred))\n",
        "print(classification_report(Y_test, rndFor.predict(X_test)))"
      ],
      "execution_count": 10,
      "outputs": [
        {
          "output_type": "stream",
          "text": [
            "Accuracy:  0.7586206896551724\n",
            "              precision    recall  f1-score   support\n",
            "\n",
            "           1       0.71      0.77      0.74        13\n",
            "           2       0.80      0.75      0.77        16\n",
            "\n",
            "    accuracy                           0.76        29\n",
            "   macro avg       0.76      0.76      0.76        29\n",
            "weighted avg       0.76      0.76      0.76        29\n",
            "\n"
          ],
          "name": "stdout"
        }
      ]
    },
    {
      "cell_type": "markdown",
      "metadata": {
        "id": "0YABn3bm2Jp8",
        "colab_type": "text"
      },
      "source": [
        "<p><u> SVM</u> </p>"
      ]
    },
    {
      "cell_type": "code",
      "metadata": {
        "id": "kKKVE9E82Jp9",
        "colab_type": "code",
        "outputId": "c7604958-1e0e-4d6d-92eb-f5ce5a39c84e",
        "colab": {
          "base_uri": "https://localhost:8080/",
          "height": 191
        }
      },
      "source": [
        "svc = SVC(gamma='auto', kernel='rbf')\n",
        "svc.fit(X_train, Y_train)\n",
        "print(classification_report(Y_test, svc.predict(X_test)),\"\\n\")"
      ],
      "execution_count": 11,
      "outputs": [
        {
          "output_type": "stream",
          "text": [
            "              precision    recall  f1-score   support\n",
            "\n",
            "           1       0.75      0.92      0.83        13\n",
            "           2       0.92      0.75      0.83        16\n",
            "\n",
            "    accuracy                           0.83        29\n",
            "   macro avg       0.84      0.84      0.83        29\n",
            "weighted avg       0.85      0.83      0.83        29\n",
            " \n",
            "\n"
          ],
          "name": "stdout"
        }
      ]
    },
    {
      "cell_type": "markdown",
      "metadata": {
        "id": "CRaMOf5m2Jp_",
        "colab_type": "text"
      },
      "source": [
        "<p> So this is the accuracy with the default parameters, but with SVM approach is necessary to perform some parameters tuning in order to achieve a better result. To do so I relied on the GridSearch <p>\n",
        "<p><u> SVM with GridSearch </u></p>"
      ]
    },
    {
      "cell_type": "code",
      "metadata": {
        "scrolled": true,
        "id": "teTBZ_m42Jp_",
        "colab_type": "code",
        "outputId": "2fa960fc-54c4-4160-ed9c-08b1857e0732",
        "colab": {
          "base_uri": "https://localhost:8080/",
          "height": 191
        }
      },
      "source": [
        "parameters = [{'C': [0.1, 0.2, 1, 10, 100, 1000], 'gamma': [0.0001, 0.001, 0.01, 0.1, 0.25, 1], 'kernel': ['rbf', 'poly', 'sigmoid']}]\n",
        "svcGS = GridSearchCV(SVC(), parameters, n_jobs=-1, cv=5)\n",
        "svcGS.fit(X_train, Y_train)\n",
        "\n",
        "print(classification_report(Y_test, svcGS.predict(X_test)),\"\\n\")"
      ],
      "execution_count": 12,
      "outputs": [
        {
          "output_type": "stream",
          "text": [
            "              precision    recall  f1-score   support\n",
            "\n",
            "           1       0.73      0.85      0.79        13\n",
            "           2       0.86      0.75      0.80        16\n",
            "\n",
            "    accuracy                           0.79        29\n",
            "   macro avg       0.80      0.80      0.79        29\n",
            "weighted avg       0.80      0.79      0.79        29\n",
            " \n",
            "\n"
          ],
          "name": "stdout"
        }
      ]
    },
    {
      "cell_type": "markdown",
      "metadata": {
        "id": "c3m3Bod82JqB",
        "colab_type": "text"
      },
      "source": [
        "<p> The result above shows us a fuller report. </p>"
      ]
    },
    {
      "cell_type": "code",
      "metadata": {
        "id": "JZdbwtGW2JqB",
        "colab_type": "code",
        "colab": {}
      },
      "source": [
        ""
      ],
      "execution_count": 0,
      "outputs": []
    },
    {
      "cell_type": "code",
      "metadata": {
        "id": "ld3Vzf-S2JqD",
        "colab_type": "code",
        "colab": {}
      },
      "source": [
        ""
      ],
      "execution_count": 0,
      "outputs": []
    }
  ]
}