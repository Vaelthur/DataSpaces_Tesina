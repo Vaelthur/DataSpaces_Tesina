{
  "nbformat": 4,
  "nbformat_minor": 0,
  "metadata": {
    "kernelspec": {
      "display_name": "Python 3",
      "language": "python",
      "name": "python3"
    },
    "language_info": {
      "codemirror_mode": {
        "name": "ipython",
        "version": 3
      },
      "file_extension": ".py",
      "mimetype": "text/x-python",
      "name": "python",
      "nbconvert_exporter": "python",
      "pygments_lexer": "ipython3",
      "version": "3.7.3"
    },
    "colab": {
      "name": "DS_Tesina.ipynb",
      "provenance": []
    }
  },
  "cells": [
    {
      "cell_type": "markdown",
      "metadata": {
        "id": "wCrs8ojW2Jpk",
        "colab_type": "text"
      },
      "source": [
        "<h1> Data Spaces' Tesina <h1>"
      ]
    },
    {
      "cell_type": "markdown",
      "metadata": {
        "id": "GO224RoA2Jpl",
        "colab_type": "text"
      },
      "source": [
        "<p>Imports section<p>"
      ]
    },
    {
      "cell_type": "code",
      "metadata": {
        "id": "UiAbswaq2Jpl",
        "colab_type": "code",
        "colab": {}
      },
      "source": [
        "import numpy as np\n",
        "import pandas as pd\n",
        "from sklearn import neighbors, model_selection, metrics, preprocessing\n",
        "from sklearn.decomposition import PCA\n",
        "from sklearn.metrics import classification_report\n",
        "from sklearn.linear_model import LogisticRegression\n",
        "from sklearn.naive_bayes import GaussianNB\n",
        "from sklearn.ensemble import RandomForestClassifier\n",
        "from sklearn.svm import SVC\n",
        "from sklearn.model_selection import GridSearchCV\n",
        "from matplotlib import pyplot as plt"
      ],
      "execution_count": 0,
      "outputs": []
    },
    {
      "cell_type": "markdown",
      "metadata": {
        "id": "YAFD6QCe2Jpo",
        "colab_type": "text"
      },
      "source": [
        "<p> Read .csv file <p>"
      ]
    },
    {
      "cell_type": "code",
      "metadata": {
        "scrolled": false,
        "id": "JdEyBvh12Jpp",
        "colab_type": "code",
        "colab": {}
      },
      "source": [
        "filename = \"https://raw.githubusercontent.com/Vaelthur/DataSpaces_Tesina/master/dataR2.csv\"\n",
        "\n",
        "data = pd.read_csv(filename)\n",
        "labels = data.columns\n",
        "\n",
        "# Let's divide data into source and target (respectively X and Y)\n",
        "X = data.iloc[:, 0:9]\n",
        "Y = data.iloc[:, 9]\n",
        "\n",
        "# records with the classification as \"1\" are Healthy Controls, \"2\" means Patients."
      ],
      "execution_count": 0,
      "outputs": []
    },
    {
      "cell_type": "markdown",
      "metadata": {
        "id": "XgXw6Hd12Jpr",
        "colab_type": "text"
      },
      "source": [
        "<p>Dataset Analysis - find and remove outliers</p>"
      ]
    },
    {
      "cell_type": "code",
      "metadata": {
        "id": "ah3JvEVm2Jps",
        "colab_type": "code",
        "outputId": "8e1d3db3-2ce1-40d8-d02c-6f45d9e36e93",
        "colab": {
          "base_uri": "https://localhost:8080/",
          "height": 1000
        }
      },
      "source": [
        "# plot outliers\n",
        "# for feature in X.columns: \n",
        "#   plt.bar(np.arange(X.shape[0]), X[feature], 0.5)\n",
        "#   plt.title(feature)\n",
        "#   plt.show()\n",
        "\n",
        "cleanDs = data\n",
        "# remove outliers\n",
        "for feature in X.columns:\n",
        "  df = X[feature]\n",
        "  sorted(df)\n",
        "  q1, q3= np.percentile(df,[25,75])\n",
        "  iqr = q3-q1\n",
        "  lower_bound = q1 -(1.5 * iqr) \n",
        "  upper_bound = q3 +(1.5 * iqr)\n",
        "  cleanDs = cleanDs[(cleanDs[feature]>lower_bound) & (cleanDs[feature]<upper_bound)]\n",
        "\n",
        "\n",
        "print(\"Without outliers the dimension of my database is \", cleanDs.shape[0], \" instead of \", X.shape[0])\n",
        "\n",
        "# temporary line\n",
        "cleanDs.reset_index(drop=True)"
      ],
      "execution_count": 0,
      "outputs": [
        {
          "output_type": "display_data",
          "data": {
            "image/png": "[encoded data removed]",
            "text/plain": [
              "<Figure size 432x288 with 1 Axes>"
            ]
          },
          "metadata": {
            "tags": [],
            "needs_background": "light"
          }
        },
        {
          "output_type": "display_data",
          "data": {
            "image/png": "[encoded data removed]",
            "text/plain": [
              "<Figure size 432x288 with 1 Axes>"
            ]
          },
          "metadata": {
            "tags": [],
            "needs_background": "light"
          }
        },
        {
          "output_type": "display_data",
          "data": {
            "image/png": "[encoded data removed]",
            "text/plain": [
              "<Figure size 432x288 with 1 Axes>"
            ]
          },
          "metadata": {
            "tags": [],
            "needs_background": "light"
          }
        },
        {
          "output_type": "display_data",
          "data": {
            "image/png": "[encoded data removed]",
            "text/plain": [
              "<Figure size 432x288 with 1 Axes>"
            ]
          },
          "metadata": {
            "tags": [],
            "needs_background": "light"
          }
        },
        {
          "output_type": "display_data",
          "data": {
            "image/png": "[encoded data removed]",
            "text/plain": [
              "<Figure size 432x288 with 1 Axes>"
            ]
          },
          "metadata": {
            "tags": [],
            "needs_background": "light"
          }
        },
        {
          "output_type": "display_data",
          "data": {
            "image/png": "[encoded data removed]",
            "text/plain": [
              "<Figure size 432x288 with 1 Axes>"
            ]
          },
          "metadata": {
            "tags": [],
            "needs_background": "light"
          }
        },
        {
          "output_type": "display_data",
          "data": {
            "image/png": "[encoded data removed]",
            "text/plain": [
              "<Figure size 432x288 with 1 Axes>"
            ]
          },
          "metadata": {
            "tags": [],
            "needs_background": "light"
          }
        },
        {
          "output_type": "display_data",
          "data": {
            "image/png": "[encoded data removed]",
            "text/plain": [
              "<Figure size 432x288 with 1 Axes>"
            ]
          },
          "metadata": {
            "tags": [],
            "needs_background": "light"
          }
        },
        {
          "output_type": "display_data",
          "data": {
            "image/png": "[encoded data removed]",
            "text/plain": [
              "<Figure size 432x288 with 1 Axes>"
            ]
          },
          "metadata": {
            "tags": [],
            "needs_background": "light"
          }
        },
        {
          "output_type": "stream",
          "text": [
            "Without outliers the dimension of my database is  80  instead of  116\n",
            "     Age        BMI  Glucose  ...  Resistin    MCP.1  Classification\n",
            "0     48  23.500000       70  ...   7.99585  417.114               1\n",
            "1     83  20.690495       92  ...   4.06405  468.786               1\n",
            "3     68  21.367521       77  ...  12.76600  928.220               1\n",
            "4     86  21.111111       92  ...  10.57635  773.920               1\n",
            "5     49  22.854458       92  ...  10.31760  530.410               1\n",
            "..   ...        ...      ...  ...       ...      ...             ...\n",
            "103   72  29.136316       83  ...  14.76966  232.018               2\n",
            "104   57  34.838148       95  ...   9.95420  655.834               2\n",
            "106   45  29.384757       90  ...  15.55625  621.273               2\n",
            "107   46  33.180000       92  ...   8.89000  209.190               2\n",
            "111   45  26.850000       92  ...  10.96000  268.230               2\n",
            "\n",
            "[80 rows x 10 columns]\n"
          ],
          "name": "stdout"
        }
      ]
    },
    {
      "cell_type": "markdown",
      "metadata": {
        "id": "HKXDB4_yG_X0",
        "colab_type": "text"
      },
      "source": [
        "<p> Check and balance Data </p>"
      ]
    },
    {
      "cell_type": "code",
      "metadata": {
        "id": "Hr5droWoHIvN",
        "colab_type": "code",
        "outputId": "e2165658-5a86-4b19-86ad-24e474a04c2a",
        "colab": {
          "base_uri": "https://localhost:8080/",
          "height": 282
        }
      },
      "source": [
        "Y = cleanDs.iloc[:, 9]\n",
        "ones = Y[Y == 1]\n",
        "twos = Y[Y == 2]\n",
        "plt.hist(ones, color='blue', width=0.5)\n",
        "plt.hist(twos, color='green', width=0.5)\n",
        "plt.show()\n",
        "print(\"Percentage of 1 and 2 are: \", ones.shape[0]/Y.shape[0]*100, \"% and \", twos.shape[0]/Y.shape[0],\"%\")"
      ],
      "execution_count": 0,
      "outputs": [
        {
          "output_type": "display_data",
          "data": {
            "image/png": "[encoded data removed]",
            "text/plain": [
              "<Figure size 432x288 with 1 Axes>"
            ]
          },
          "metadata": {
            "tags": [],
            "needs_background": "light"
          }
        },
        {
          "output_type": "stream",
          "text": [
            "Percentage of 1 and 2 are:  53.75 % and  0.4625 %\n"
          ],
          "name": "stdout"
        }
      ]
    },
    {
      "cell_type": "markdown",
      "metadata": {
        "id": "t3FYKtAoLzAu",
        "colab_type": "text"
      },
      "source": [
        "<p>Observing the percentage of the two classes we can identify this dataset as balanced since the two classes don't go over the 60/40 ratio so it's acceptable.</p>"
      ]
    },
    {
      "cell_type": "markdown",
      "metadata": {
        "id": "d2HEg1bF2Jpw",
        "colab_type": "text"
      },
      "source": [
        "<p><p>Preprocessing<p></p>"
      ]
    },
    {
      "cell_type": "code",
      "metadata": {
        "id": "_SX9Mcc_2Jpw",
        "colab_type": "code",
        "colab": {}
      },
      "source": [
        "X_train, X_test, Y_train, Y_test = model_selection.train_test_split(cleanDs, Y, random_state=np.random.randint(0,100), test_size=0.27)\n",
        "\n",
        "# array of possible K to apply KNN neighbors\n",
        "ks = [3,5,7,9]\n",
        "\n",
        "# normalize data because algorithms work better with normalized data\n",
        "X_train = preprocessing.normalize(X_train)\n",
        "X_test = preprocessing.normalize(X_test)"
      ],
      "execution_count": 0,
      "outputs": []
    },
    {
      "cell_type": "markdown",
      "metadata": {
        "id": "3oNmY3Wh2Jpy",
        "colab_type": "text"
      },
      "source": [
        "<p><u>K-NN</u></p>"
      ]
    },
    {
      "cell_type": "code",
      "metadata": {
        "id": "ynrm9pYY2Jpz",
        "colab_type": "code",
        "outputId": "0b197aaa-e1fe-48fc-9334-ea98f6f1230a",
        "colab": {
          "base_uri": "https://localhost:8080/",
          "height": 85
        }
      },
      "source": [
        "for k in ks:\n",
        "    n_neighbors = k\n",
        "    \n",
        "    # Create an instance of neighbors classifier (clf) and fit the data\n",
        "    clf = neighbors.KNeighborsClassifier(n_neighbors)\n",
        "    \n",
        "    # train the classifier on the training set\n",
        "    clf.fit(X_train, Y_train)\n",
        "    \n",
        "    print(\"Accuracy score on the test set with K =\",n_neighbors,\"is %.3f\" %(clf.score(X_test, Y_test)))\n",
        "\n",
        "\n",
        "    "
      ],
      "execution_count": 0,
      "outputs": [
        {
          "output_type": "stream",
          "text": [
            "Accuracy score on the test set with K = 3 is 0.636\n",
            "Accuracy score on the test set with K = 5 is 0.636\n",
            "Accuracy score on the test set with K = 7 is 0.773\n",
            "Accuracy score on the test set with K = 9 is 0.682\n"
          ],
          "name": "stdout"
        }
      ]
    },
    {
      "cell_type": "markdown",
      "metadata": {
        "id": "ZMIebd3i2Jp1",
        "colab_type": "text"
      },
      "source": [
        "<p><u>Logistic Regression</u><p>"
      ]
    },
    {
      "cell_type": "code",
      "metadata": {
        "id": "MF0n46z92Jp2",
        "colab_type": "code",
        "outputId": "ad32c79c-de0e-4c3c-cf0d-349a247aa2fc",
        "colab": {
          "base_uri": "https://localhost:8080/",
          "height": 187
        }
      },
      "source": [
        "logReg = LogisticRegression(solver=\"lbfgs\", max_iter=2000) # instance of the model\n",
        "\n",
        "logReg.fit(X_train, Y_train)\n",
        "\n",
        "# res = logReg.predict(X_test)\n",
        "\n",
        "print(\"Accuracy: \", logReg.score(X_test, Y_test))\n",
        "print(classification_report(Y_test, logReg.predict(X_test)))"
      ],
      "execution_count": 0,
      "outputs": [
        {
          "output_type": "stream",
          "text": [
            "Accuracy:  0.5454545454545454\n",
            "              precision    recall  f1-score   support\n",
            "\n",
            "           1       0.70      0.50      0.58        14\n",
            "           2       0.42      0.62      0.50         8\n",
            "\n",
            "    accuracy                           0.55        22\n",
            "   macro avg       0.56      0.56      0.54        22\n",
            "weighted avg       0.60      0.55      0.55        22\n",
            "\n"
          ],
          "name": "stdout"
        }
      ]
    },
    {
      "cell_type": "markdown",
      "metadata": {
        "id": "A9vmd3bY2Jp5",
        "colab_type": "text"
      },
      "source": [
        "<p><u> Random forest</u> </p>"
      ]
    },
    {
      "cell_type": "code",
      "metadata": {
        "scrolled": true,
        "id": "UoqXcIjn2Jp6",
        "colab_type": "code",
        "outputId": "524d6534-4873-4973-d767-781502628aec",
        "colab": {
          "base_uri": "https://localhost:8080/",
          "height": 187
        }
      },
      "source": [
        "rndFor = RandomForestClassifier(n_estimators = 100, criterion=\"entropy\")\n",
        "\n",
        "rndFor.fit(X_train, Y_train)\n",
        "\n",
        "y_pred = rndFor.predict(X_test)\n",
        "\n",
        "print(\"Accuracy: \", metrics.accuracy_score(Y_test, y_pred))\n",
        "print(classification_report(Y_test, rndFor.predict(X_test)))"
      ],
      "execution_count": 0,
      "outputs": [
        {
          "output_type": "stream",
          "text": [
            "Accuracy:  0.5909090909090909\n",
            "              precision    recall  f1-score   support\n",
            "\n",
            "           1       0.78      0.50      0.61        14\n",
            "           2       0.46      0.75      0.57         8\n",
            "\n",
            "    accuracy                           0.59        22\n",
            "   macro avg       0.62      0.62      0.59        22\n",
            "weighted avg       0.66      0.59      0.60        22\n",
            "\n"
          ],
          "name": "stdout"
        }
      ]
    },
    {
      "cell_type": "markdown",
      "metadata": {
        "id": "0YABn3bm2Jp8",
        "colab_type": "text"
      },
      "source": [
        "<p><u> SVM</u> </p>"
      ]
    },
    {
      "cell_type": "code",
      "metadata": {
        "id": "kKKVE9E82Jp9",
        "colab_type": "code",
        "outputId": "b74a6a15-582f-4569-ad39-c38771b52521",
        "colab": {
          "base_uri": "https://localhost:8080/",
          "height": 34
        }
      },
      "source": [
        "svc = SVC(gamma='auto', kernel='rbf')\n",
        "svc.fit(X_train, Y_train)\n",
        "print(\"Accuracy: \", svc.score(X_test, Y_test))"
      ],
      "execution_count": 0,
      "outputs": [
        {
          "output_type": "stream",
          "text": [
            "Accuracy:  0.6818181818181818\n"
          ],
          "name": "stdout"
        }
      ]
    },
    {
      "cell_type": "markdown",
      "metadata": {
        "id": "CRaMOf5m2Jp_",
        "colab_type": "text"
      },
      "source": [
        "<p> So this is the accuracy with the default parameters, but with SVm approach is necessary to perform some parameters tuning in order to achieve a better result. To do so I relied on the GridSearch <p>\n",
        "<p><u> SVM with GridSearch </u></p>"
      ]
    },
    {
      "cell_type": "code",
      "metadata": {
        "scrolled": true,
        "id": "teTBZ_m42Jp_",
        "colab_type": "code",
        "outputId": "0fae18a1-fbcc-410d-9170-42626bb35c52",
        "colab": {
          "base_uri": "https://localhost:8080/",
          "height": 255
        }
      },
      "source": [
        "parameters = [{'C': [0.1, 0.2, 1, 10, 100, 1000], 'kernel': ['linear']},\n",
        "    {'C': [0.1, 0.2, 1, 10, 100, 1000], 'gamma': [0.0001, 0.001, 0.01, 0.1, 0.25, 1], 'kernel': ['rbf']}]\n",
        "svcGS = GridSearchCV(svc, parameters, n_jobs=-1, cv=5, refit=True)\n",
        "svcGS.fit(X_train, Y_train)\n",
        "# print(\"Accuracy: \", svcGS.score(X_test, Y_test))\n",
        "print(classification_report(Y_test, svcGS.predict(X_test)),\"\\n\")\n",
        "cm = metrics.confusion_matrix(Y_test, svcGS.predict(X_test))\n",
        "\n",
        "print (\"Confusion Matrix:\\n\",cm)\n",
        "\n",
        "fpr, tpr, thresholds = metrics.roc_curve(Y_test, svcGS.predict(X_test), pos_label=2)\n",
        "print(\"Area Under the ROC curve: \",metrics.auc(fpr, tpr))                                         "
      ],
      "execution_count": 0,
      "outputs": [
        {
          "output_type": "stream",
          "text": [
            "              precision    recall  f1-score   support\n",
            "\n",
            "           1       0.75      0.86      0.80        14\n",
            "           2       0.67      0.50      0.57         8\n",
            "\n",
            "    accuracy                           0.73        22\n",
            "   macro avg       0.71      0.68      0.69        22\n",
            "weighted avg       0.72      0.73      0.72        22\n",
            " \n",
            "\n",
            "Confusion Matrix:\n",
            " [[12  2]\n",
            " [ 4  4]]\n",
            "Area Under the ROC curve:  0.6785714285714286\n"
          ],
          "name": "stdout"
        }
      ]
    },
    {
      "cell_type": "markdown",
      "metadata": {
        "id": "c3m3Bod82JqB",
        "colab_type": "text"
      },
      "source": [
        "<p> The result above shows us a fuller report. </p>"
      ]
    },
    {
      "cell_type": "code",
      "metadata": {
        "id": "JZdbwtGW2JqB",
        "colab_type": "code",
        "colab": {}
      },
      "source": [
        ""
      ],
      "execution_count": 0,
      "outputs": []
    },
    {
      "cell_type": "code",
      "metadata": {
        "id": "ld3Vzf-S2JqD",
        "colab_type": "code",
        "colab": {}
      },
      "source": [
        ""
      ],
      "execution_count": 0,
      "outputs": []
    }
  ]
}