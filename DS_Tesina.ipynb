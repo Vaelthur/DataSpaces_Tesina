{
 "cells": [
  {
   "cell_type": "markdown",
   "metadata": {},
   "source": [
    "<h1> Data Spaces' Tesina <h1>"
   ]
  },
  {
   "cell_type": "markdown",
   "metadata": {},
   "source": [
    "<p>Imports section<p>"
   ]
  },
  {
   "cell_type": "code",
   "execution_count": 1,
   "metadata": {},
   "outputs": [],
   "source": [
    "import numpy as np\n",
    "from sklearn import neighbors, model_selection, metrics, preprocessing\n",
    "from sklearn.decomposition import PCA\n",
    "from sklearn.linear_model import LogisticRegression\n",
    "from sklearn.naive_bayes import GaussianNB\n",
    "from sklearn.ensemble import RandomForestClassifier\n",
    "from sklearn.svm import SVC\n",
    "from sklearn.model_selection import GridSearchCV"
   ]
  },
  {
   "cell_type": "markdown",
   "metadata": {},
   "source": [
    "<p> Read .csv file <p>"
   ]
  },
  {
   "cell_type": "code",
   "execution_count": 2,
   "metadata": {
    "scrolled": false
   },
   "outputs": [],
   "source": [
    "filename = \"dataR2.csv\"\n",
    "file = open(filename, \"r\")\n",
    "\n",
    "data = np.loadtxt(file, delimiter=\",\", dtype=None, encoding=None, usecols=(0,1,2,3,4,5,6,7,8,9), skiprows=1)\n",
    "\n",
    "# according to the relevant papers indicated in the website where I took this dataset from has been has been\n",
    "# observed that if instead of taking into account all of the features we only take 4 of them (Age, BMI, Glucose\n",
    "# & Resistine) we can achieve a grater accuracy (only if we are using the SVM or at least Random Forest algos\n",
    "# whereas with KNN or Logistic regression results aren't that nice).\n",
    "\n",
    "# data = np.loadtxt(file, delimiter=\",\", dtype=None, encoding=None, usecols=(0,1,2,7,9), skiprows=1)\n",
    "\n",
    "# records with the classification as \"1\" are Healthy Controls, \"2\" means Patients."
   ]
  },
  {
   "cell_type": "markdown",
   "metadata": {},
   "source": [
    "<p>Preprocessing</p>"
   ]
  },
  {
   "cell_type": "code",
   "execution_count": 3,
   "metadata": {},
   "outputs": [],
   "source": [
    "# Let's divide data into source and target (respectively X and Y)\n",
    "X = data[:, :-1]\n",
    "Y = data[:, len(data[0])-1]\n",
    "\n",
    "X_train, X_test, Y_train, Y_test = model_selection.train_test_split(X, Y, random_state=np.random.randint(0,100), test_size=0.3)\n",
    "\n",
    "# array of possible K to apply KNN neighbors\n",
    "ks = [3,5,7,9]\n",
    "\n",
    "\n",
    "# normalize data because algorithms work better with normalized data\n",
    "scaler = preprocessing.StandardScaler()\n",
    "scaler.fit(X_train)\n",
    "X_train = scaler.transform(X_train)\n",
    "X_test = scaler.transform(X_test)"
   ]
  },
  {
   "cell_type": "markdown",
   "metadata": {},
   "source": [
    "<p> I try to apply PCA on the dataset, since there are 10 features (which are a lot) and then re-apply KNN <p>"
   ]
  },
  {
   "cell_type": "code",
   "execution_count": 4,
   "metadata": {},
   "outputs": [
    {
     "name": "stdout",
     "output_type": "stream",
     "text": [
      "[[-1.18146727e+02 -3.37452543e+01 -5.34841916e-02  1.70821312e+00]\n",
      " [-6.61259970e+01 -1.03555210e+01 -2.30719162e+01 -2.30978016e+01]\n",
      " [ 1.97682203e+01 -7.54628627e+00 -1.35367716e+01 -2.26901307e+01]\n",
      " [ 3.93026665e+02 -3.15569321e+01 -6.31341141e+00 -1.71098988e+01]\n",
      " [ 2.39018611e+02 -1.50451951e+01 -2.32045340e+01 -2.68809720e+01]\n",
      " [-4.48478724e+00 -1.92517387e+01 -1.12542953e+01  8.58458195e+00]\n",
      " [ 7.20834300e+02 -3.36783053e+01 -1.40021544e+01 -3.73978966e+01]\n",
      " [-2.53712444e+02  1.00634944e+01 -3.66526115e+01 -4.61678191e+00]\n",
      " [-3.97876374e+02 -4.80650797e+00 -2.66188674e+01 -8.81612683e+00]\n",
      " [-2.16691095e+02 -1.13422142e+01 -9.66513340e+00 -1.86263293e+01]\n",
      " [-1.80539609e+02 -2.68350154e+01  4.91473279e+00  1.66816880e+01]\n",
      " [-3.60275845e+02 -1.10781786e+01  2.03291198e+01  2.09896512e+01]\n",
      " [-2.21387656e+02 -2.24301618e+01  1.05930874e+01  2.61986557e+01]\n",
      " [ 9.70825047e+01 -2.96214287e+01  3.54640950e-01  3.12825437e+01]\n",
      " [-3.70086154e+02 -2.36998777e+01  5.00109464e+00  1.41112175e+01]\n",
      " [-4.71305414e+02 -1.27502927e+01 -4.27663453e+00  1.38484773e+01]\n",
      " [-3.43401907e+02 -1.18010382e+01  5.88928157e+00  7.86815048e+00]\n",
      " [-9.03893732e+01 -3.23120166e+00  7.76025271e+00 -7.07625325e+00]\n",
      " [-2.82268255e+02 -4.60180306e-01 -6.84832494e+00 -6.27305196e+00]\n",
      " [ 5.37156393e+01 -1.14122712e+00  3.36444246e+01  1.40738185e+01]\n",
      " [-7.47653133e-01 -2.19264588e+01  3.26506682e+00  1.59023796e+01]\n",
      " [ 3.77976834e+01 -1.54911565e+01  1.44705372e+01  1.46342550e+01]\n",
      " [ 3.70128778e+02 -1.28020516e+01  3.54038468e+01  1.38957474e+01]\n",
      " [ 1.98855892e+02 -1.35742323e+01  2.59151033e+01  1.04874197e+01]\n",
      " [ 6.92853992e+02 -2.80319088e+01 -2.93948955e+00 -2.42582999e+00]\n",
      " [ 5.12124148e+01 -9.13535386e+00  2.25410285e+01  1.15394930e+00]\n",
      " [ 3.52572161e+02  8.44641915e+00  1.77417164e+01  1.34045170e+00]\n",
      " [ 5.67317718e+02 -2.80864236e+00  2.06945947e+01 -1.76270886e+01]\n",
      " [ 1.33229845e+02 -4.18455499e-02  3.32669166e+01  1.10195525e+01]\n",
      " [ 4.63519927e+01 -2.78748457e+01  4.14736596e+00  1.47720053e+01]\n",
      " [ 3.30502653e+02  2.65340235e+01  3.74826046e+01 -1.76446489e+01]\n",
      " [ 1.61049777e+02 -1.51002438e+00  2.06455243e+00  4.19426799e+00]\n",
      " [-1.76020878e+02  1.12537745e+01  4.95452307e+01  1.46654234e+01]\n",
      " [ 4.25325633e+02 -1.27511485e+01  1.45929991e+01  7.40391707e+00]\n",
      " [-6.12071751e+01 -2.16902971e+01  5.81645361e+00 -1.71944823e+00]\n",
      " [ 5.01976719e+01 -1.79410088e+01  7.11682863e-01 -1.67131569e+01]\n",
      " [ 9.95021429e+01 -2.01574524e+01 -4.40237545e+00 -1.41534837e+01]\n",
      " [-2.70068562e+02  4.91170411e+01  4.85791224e+01 -1.60546446e+01]\n",
      " [-1.55447606e+02  6.06088842e+00 -5.31253032e+00 -4.39857317e-01]\n",
      " [ 8.32647462e+01 -1.69921236e+01  1.43188986e+00 -2.59585720e+01]\n",
      " [ 1.63756092e+02 -1.11532602e+01  2.09407182e+00 -2.47642826e+01]\n",
      " [-1.57482843e+02  8.79419632e+00  6.85086366e-01 -1.87311769e+01]\n",
      " [-1.99543384e+02 -1.30758426e+01 -1.51309773e+01 -1.70597072e+01]\n",
      " [-2.64575528e+02 -3.68957326e+00 -1.19655858e+01 -9.10862183e+00]\n",
      " [-3.33606285e+02  2.58697186e+01  1.40652041e+01 -1.60053903e+01]\n",
      " [-3.08934385e+02 -1.65747934e+00 -3.53705239e+00 -9.57240486e+00]\n",
      " [-3.27907119e+02  2.51776108e+01  2.31916795e+01 -2.45346286e+01]\n",
      " [-3.25649293e+02 -3.24948638e+01 -8.98275461e+00 -2.68748506e+01]\n",
      " [-3.19040619e+02  9.83401378e+00  1.18154507e+01 -1.60017256e+01]\n",
      " [-3.02682922e+02 -1.68654744e+00 -2.60539013e+01 -2.12123067e+01]\n",
      " [-4.88421925e+02  2.29451204e+01 -1.98788641e+01 -6.77918360e+00]\n",
      " [-4.61002186e+01 -1.32375770e+01 -1.19580078e+01 -2.01995191e+01]\n",
      " [ 1.79091949e+01 -8.22008925e+00 -1.23355990e+01  1.86520200e+01]\n",
      " [-1.51959071e+02 -2.78557808e+01  5.34172058e-01  7.73113800e+00]\n",
      " [ 3.89970179e+01 -1.19504493e+01 -7.11160608e+00  9.96574705e+00]\n",
      " [-5.28337123e+01 -1.21237297e+01  1.65376539e+00  2.43001203e+01]\n",
      " [-2.12789965e+02 -8.87954181e+00  6.58915935e-02  1.40112899e+01]\n",
      " [-8.58092531e+01 -3.02595586e+00 -2.05056960e+01 -4.86659044e+00]\n",
      " [-4.44192001e+02 -8.43141319e+00 -1.26578994e+01  8.28545869e+00]\n",
      " [ 1.69058162e+02 -1.76632886e+01 -1.24478173e+01 -4.95788434e+00]\n",
      " [-3.35587857e+02 -1.10366984e+01 -8.64139180e+00  2.10352540e+01]\n",
      " [ 1.78800561e+02  1.26893713e+01 -5.63384418e+00 -8.91169046e+00]\n",
      " [ 2.02675384e+02 -3.19218338e+01 -2.52583566e+00  2.41502774e+00]\n",
      " [-1.75393228e+02 -6.41541990e+00 -1.68153504e+01  1.09133948e+01]\n",
      " [-1.79390352e+02 -4.19416958e+00 -1.24518576e+01  6.40622167e-01]\n",
      " [-1.59011863e+01  4.41235883e+00 -1.28580863e+01  1.70956952e+01]\n",
      " [ 1.00074196e+02 -2.30778993e+01 -8.02582843e+00  5.06169219e-02]\n",
      " [-1.38670037e+02 -4.66793272e+00 -1.53860244e+01 -3.29865190e+00]\n",
      " [-2.33672222e+02 -1.56049962e+01 -4.66349217e+00  1.09869506e+01]\n",
      " [-3.13806520e+02  7.14324708e+00 -1.78979339e+01  2.37776130e+01]\n",
      " [-3.40988507e+02 -1.43655876e+01 -1.17475417e+01  1.44233391e+01]\n",
      " [-2.89567996e+02  1.41310542e+01 -1.00685798e+01  2.64086092e+01]\n",
      " [-2.10893676e+01 -7.66742638e+00 -1.75328603e+01  1.08067021e+01]\n",
      " [-3.38692577e+02  8.90016235e+00 -1.59415431e+01 -8.27132483e+00]\n",
      " [-2.22795895e+02 -1.14953036e+01 -7.36685246e+00  1.48278898e+01]\n",
      " [ 2.72069404e+02 -1.38055024e+01 -8.26734348e+00  1.53648891e+01]\n",
      " [-5.14013041e+01  2.03576542e+00  1.10370669e+01 -1.18862198e+00]\n",
      " [ 2.40974201e+02 -1.45050092e+00  7.25518928e+00  1.39418845e+01]\n",
      " [ 1.16565896e+03  8.66630053e+01 -3.43075715e+01  3.41296092e+00]\n",
      " [ 2.49297421e+02  5.40000401e+00  2.31849333e+01  1.23377053e+01]\n",
      " [ 3.75535931e+02 -2.65645085e+01  6.11086449e+00 -8.45477780e+00]\n",
      " [-1.08175917e+02  1.76057824e+01  2.44800032e+00 -2.14612124e+01]\n",
      " [ 2.03380843e+02  8.98166195e+00  1.88846230e+01  7.32431206e+00]\n",
      " [ 2.65811728e+02  9.88156058e+00 -1.22324362e+01 -6.17449016e+00]\n",
      " [ 5.07539820e+02 -1.48662214e+01  2.48395809e+00  1.45702000e+01]\n",
      " [ 1.16337070e+03 -2.68111548e+01  1.02749473e+01 -1.79357519e+01]\n",
      " [ 1.16330817e+03 -3.60261302e+01  4.76343519e+00 -6.52902364e-01]\n",
      " [ 5.46137938e+02  1.12929438e+02 -1.23909191e+01  5.93256582e+00]\n",
      " [ 1.16579041e+03  5.83515212e+01 -3.78755192e+01  3.90540308e+01]\n",
      " [ 3.89883007e+02  2.48822539e+01 -2.00982199e+01  1.26103068e+01]\n",
      " [ 1.04357243e+02  2.87384168e+01 -3.63110651e+00  2.92406561e+01]\n",
      " [ 4.59731834e+02  4.63637446e+00 -2.08444247e+00 -2.38228848e+01]\n",
      " [ 2.30034831e+02 -5.61436285e+00  1.15974944e+01  2.50786470e+00]\n",
      " [ 1.22334860e+02  3.48204582e+01 -1.53082663e+00  1.75870420e+01]\n",
      " [-1.37904508e+02  3.94044579e+01 -8.46979267e+00  1.03369571e+01]\n",
      " [ 6.74267915e+01 -1.11834155e+01  3.68136435e+01 -7.26489397e+00]\n",
      " [-1.27282295e+02 -5.71568183e+00 -6.37710533e+00  1.58380908e+01]\n",
      " [-2.41272578e+02 -1.89623469e+00 -5.61700647e+00  2.03830760e+01]\n",
      " [-2.77897602e+02  3.42995314e+01  1.68450652e+01 -1.10846645e+01]\n",
      " [-1.80817619e+02  7.78216678e+00 -1.87394908e+01 -4.13465193e+00]\n",
      " [ 3.76085976e+01 -3.19891747e+00  3.24800829e+00 -2.06584187e+01]\n",
      " [-2.65260492e+02 -7.06107449e+00 -9.71233364e+00 -7.46048187e+00]\n",
      " [-1.37842861e+02  1.39619852e+01  1.19745041e+01 -1.01284456e+01]\n",
      " [-3.02756348e+02 -2.14730206e+00  4.23352120e-01 -1.69732211e+01]\n",
      " [ 1.21116887e+02 -3.88682095e-01  7.55205428e+00 -3.73227424e+00]\n",
      " [ 2.54767097e+02  3.32206181e+01 -8.73178832e+00 -8.71685435e+00]\n",
      " [ 8.64570371e+01 -1.26672600e+01  6.65072487e+00  7.13061101e+00]\n",
      " [-3.25564114e+02 -6.89670302e+00 -1.31511518e+00  1.04198660e+01]\n",
      " [-3.35711155e+02  2.78744356e+01 -2.80300202e+01  4.41085133e+00]\n",
      " [-4.34155871e+02  6.49391825e+01 -1.45258721e+01 -3.81934919e-01]\n",
      " [-3.15945531e+02  5.32365081e+01  3.90266896e+01 -1.26328044e+00]\n",
      " [-2.66530287e+02  9.64993555e+00  2.72104420e+01  3.99721410e+00]\n",
      " [-2.04579329e+02 -3.91603229e+00 -1.59762709e+01  4.46885573e-01]\n",
      " [-2.20636499e+02  2.10761024e+01  2.41724838e+01 -1.26645566e+01]\n",
      " [-1.42707816e+02 -1.18411279e+01 -1.67109481e+00 -1.67396787e+01]\n",
      " [-4.43763458e+02  7.90049190e+01  1.76394449e+01 -2.06259134e+01]]\n"
     ]
    }
   ],
   "source": [
    "# pca = PCA(n_components=4)\n",
    "# pca.fit(X)\n",
    "# Xp = pca.transform(X)\n",
    "# print(Xp)\n",
    "\n",
    "# X_train, X_test, Y_train, Y_test = model_selection.train_test_split(Xp, Y, random_state=np.random.randint(0,100), test_size=0.3)\n",
    "\n",
    "# # array of possible K to apply KNN neighbors\n",
    "# ks = [3,5,7,9]\n",
    "\n",
    "\n",
    "# normalize data because algorithms work better with normalized data\n",
    "# scaler = preprocessing.StandardScaler()\n",
    "# scaler.fit(X_train)\n",
    "# X_train = scaler.transform(X_train)\n",
    "# X_test = scaler.transform(X_test)"
   ]
  },
  {
   "cell_type": "markdown",
   "metadata": {},
   "source": [
    "<p>Apply K-NN</p>"
   ]
  },
  {
   "cell_type": "code",
   "execution_count": 5,
   "metadata": {},
   "outputs": [
    {
     "name": "stdout",
     "output_type": "stream",
     "text": [
      "Accuracy score on the test set with K = 3 is 0.743\n",
      "Accuracy score on the test set with K = 5 is 0.686\n",
      "Accuracy score on the test set with K = 7 is 0.771\n",
      "Accuracy score on the test set with K = 9 is 0.829\n"
     ]
    }
   ],
   "source": [
    "for k in ks:\n",
    "    n_neighbors = k\n",
    "    \n",
    "    # Create an instance of neighbors classifier (clf) and fit the data\n",
    "    clf = neighbors.KNeighborsClassifier(n_neighbors)\n",
    "    \n",
    "    # train the classifier on the training set\n",
    "    clf.fit(X_train, Y_train)\n",
    "    \n",
    "    print(\"Accuracy score on the test set with K =\",n_neighbors,\"is %.3f\" %(clf.score(X_test, Y_test)))\n",
    "\n",
    "\n",
    "    "
   ]
  },
  {
   "cell_type": "markdown",
   "metadata": {},
   "source": [
    "<p>Apply KNN this time with a validation set </p>"
   ]
  },
  {
   "cell_type": "code",
   "execution_count": 6,
   "metadata": {},
   "outputs": [
    {
     "name": "stdout",
     "output_type": "stream",
     "text": [
      "The best K, based on the validation set results, is 9 and the accuracy on the test set is 0.743\n"
     ]
    }
   ],
   "source": [
    "# Let's create the validation set\n",
    "X_train_t, X_valid, Y_train_t, Y_valid = model_selection.train_test_split(X_train, Y_train, random_state=np.random.randint(0,100), test_size=0.30)\n",
    "\n",
    "# array of possible K to apply KNN neighbors\n",
    "ks = [3,5,7,9]\n",
    "\n",
    "# normalize data because algorithms work better with normalized data\n",
    "scaler = preprocessing.StandardScaler()\n",
    "scaler.fit(X_train)\n",
    "X_train = scaler.transform(X_train)\n",
    "X_test = scaler.transform(X_test)\n",
    "X_valid = scaler.transform(X_valid)\n",
    "\n",
    "# array to write accuracy values for each K \n",
    "acc_arr = []\n",
    "\n",
    "for k in ks:\n",
    "    n_neighbors = k\n",
    "    \n",
    "    # Create an instance of neighbors classifier (clf) and fit the data\n",
    "    clf = neighbors.KNeighborsClassifier(n_neighbors)\n",
    "    \n",
    "    # train the classifier on the training set\n",
    "    clf.fit(X_train_t, Y_train_t)\n",
    "    \n",
    "    acc_arr.append(clf.score(X_valid, Y_valid))\n",
    "    \n",
    "# I choose the best K based on the results on the validation set and apply KNN with that\n",
    "k_best_index = acc_arr.index(max(acc_arr))\n",
    "k_best = ks[k_best_index]\n",
    "\n",
    "clf2 = neighbors.KNeighborsClassifier(k_best)\n",
    "clf2.fit(X_train_t, Y_train_t)\n",
    "\n",
    "print(\"The best K, based on the validation set results, is\",k_best,\"and the accuracy on the test set is %.3f\"%(clf2.score(X_test, Y_test)))"
   ]
  },
  {
   "cell_type": "markdown",
   "metadata": {},
   "source": [
    "<p> I'll try Logistic Regression on the dataset <p>"
   ]
  },
  {
   "cell_type": "code",
   "execution_count": 7,
   "metadata": {},
   "outputs": [
    {
     "name": "stdout",
     "output_type": "stream",
     "text": [
      "Accuracy:  0.7714285714285715\n"
     ]
    }
   ],
   "source": [
    "logReg = LogisticRegression(solver=\"lbfgs\") # instance of the model\n",
    "\n",
    "logReg.fit(X_train, Y_train)\n",
    "\n",
    "# res = logReg.predict(X_test)\n",
    "\n",
    "print(\"Accuracy: \", logReg.score(X_test, Y_test))"
   ]
  },
  {
   "cell_type": "markdown",
   "metadata": {},
   "source": [
    "<p><u> Naive Bayes classifier </u></p>"
   ]
  },
  {
   "cell_type": "code",
   "execution_count": 8,
   "metadata": {},
   "outputs": [
    {
     "name": "stdout",
     "output_type": "stream",
     "text": [
      "Accuracy:  0.5142857142857142\n"
     ]
    }
   ],
   "source": [
    "gnb = GaussianNB()\n",
    "gnb.fit(X_train, Y_train)\n",
    "print(\"Accuracy: \", gnb.score(X_test, Y_test))"
   ]
  },
  {
   "cell_type": "markdown",
   "metadata": {},
   "source": [
    "<p><u> Random forest</u> </p>"
   ]
  },
  {
   "cell_type": "code",
   "execution_count": 9,
   "metadata": {
    "scrolled": true
   },
   "outputs": [
    {
     "name": "stdout",
     "output_type": "stream",
     "text": [
      "Accuracy:  0.6285714285714286\n"
     ]
    }
   ],
   "source": [
    "rndFor = RandomForestClassifier(n_estimators = 200, criterion=\"entropy\")\n",
    "\n",
    "rndFor.fit(X_train, Y_train)\n",
    "\n",
    "y_pred = rndFor.predict(X_test)\n",
    "\n",
    "print(\"Accuracy: \", metrics.accuracy_score(Y_test, y_pred))"
   ]
  },
  {
   "cell_type": "markdown",
   "metadata": {},
   "source": [
    "<p><u> SVM</u> </p>"
   ]
  },
  {
   "cell_type": "code",
   "execution_count": 10,
   "metadata": {},
   "outputs": [
    {
     "name": "stdout",
     "output_type": "stream",
     "text": [
      "Accuracy:  0.6571428571428571\n"
     ]
    }
   ],
   "source": [
    "svc = SVC(gamma='auto', kernel='rbf')\n",
    "svc.fit(X_train, Y_train)\n",
    "print(\"Accuracy: \", svc.score(X_test, Y_test))"
   ]
  },
  {
   "cell_type": "markdown",
   "metadata": {},
   "source": [
    "<p> So this is the accuracy with the default parameters, but with SVm approach is necessary to perform some parameters tuning in order to achieve a better result. To do so I relied on the GridSearch <p>\n",
    "<p><u> SVM with GridSearch </u></p>"
   ]
  },
  {
   "cell_type": "code",
   "execution_count": 11,
   "metadata": {},
   "outputs": [
    {
     "name": "stdout",
     "output_type": "stream",
     "text": [
      "Accuracy:  0.8\n"
     ]
    }
   ],
   "source": [
    "parameters = [{'C': [0.1, 1, 10, 100, 1000], 'gamma': [0.0001, 0.001, 0.01, 0.1, 1], 'kernel': ['rbf']}]\n",
    "svcGS = GridSearchCV(svc, parameters, n_jobs=-1, cv=3)\n",
    "svcGS.fit(X_train, Y_train)\n",
    "print(\"Accuracy: \", svcGS.score(X_test, Y_test))"
   ]
  },
  {
   "cell_type": "code",
   "execution_count": null,
   "metadata": {},
   "outputs": [],
   "source": []
  },
  {
   "cell_type": "code",
   "execution_count": null,
   "metadata": {},
   "outputs": [],
   "source": []
  },
  {
   "cell_type": "code",
   "execution_count": null,
   "metadata": {},
   "outputs": [],
   "source": []
  }
 ],
 "metadata": {
  "kernelspec": {
   "display_name": "Python 3",
   "language": "python",
   "name": "python3"
  },
  "language_info": {
   "codemirror_mode": {
    "name": "ipython",
    "version": 3
   },
   "file_extension": ".py",
   "mimetype": "text/x-python",
   "name": "python",
   "nbconvert_exporter": "python",
   "pygments_lexer": "ipython3",
   "version": "3.7.3"
  }
 },
 "nbformat": 4,
 "nbformat_minor": 2
}
