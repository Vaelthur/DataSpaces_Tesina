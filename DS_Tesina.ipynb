{
  "nbformat": 4,
  "nbformat_minor": 0,
  "metadata": {
    "kernelspec": {
      "display_name": "Python 3",
      "language": "python",
      "name": "python3"
    },
    "language_info": {
      "codemirror_mode": {
        "name": "ipython",
        "version": 3
      },
      "file_extension": ".py",
      "mimetype": "text/x-python",
      "name": "python",
      "nbconvert_exporter": "python",
      "pygments_lexer": "ipython3",
      "version": "3.7.3"
    },
    "colab": {
      "name": "DS_Tesina.ipynb",
      "provenance": [],
      "collapsed_sections": [],
      "include_colab_link": true
    }
  },
  "cells": [
    {
      "cell_type": "markdown",
      "metadata": {
        "id": "view-in-github",
        "colab_type": "text"
      },
      "source": [
        "<a href=\"https://colab.research.google.com/github/Vaelthur/DataSpaces_Tesina/blob/master/DS_Tesina.ipynb\" target=\"_parent\"><img src=\"https://colab.research.google.com/assets/colab-badge.svg\" alt=\"Open In Colab\"/></a>"
      ]
    },
    {
      "cell_type": "markdown",
      "metadata": {
        "id": "wCrs8ojW2Jpk",
        "colab_type": "text"
      },
      "source": [
        "<h1> Data Spaces' Tesina <h1>"
      ]
    },
    {
      "cell_type": "markdown",
      "metadata": {
        "id": "GO224RoA2Jpl",
        "colab_type": "text"
      },
      "source": [
        "<p>Imports section<p>"
      ]
    },
    {
      "cell_type": "code",
      "metadata": {
        "id": "UiAbswaq2Jpl",
        "colab_type": "code",
        "colab": {}
      },
      "source": [
        "import numpy as np\n",
        "import pandas as pd\n",
        "import seaborn as sn\n",
        "import scipy as sp\n",
        "from imblearn.over_sampling import SMOTE\n",
        "from imblearn.under_sampling import RandomUnderSampler\n",
        "from sklearn import neighbors, model_selection, metrics, preprocessing\n",
        "from sklearn.decomposition import PCA\n",
        "from sklearn.metrics import classification_report\n",
        "from sklearn.linear_model import LogisticRegression\n",
        "from sklearn.ensemble import RandomForestClassifier\n",
        "from sklearn.svm import SVC\n",
        "from sklearn.model_selection import GridSearchCV\n",
        "from sklearn.base import clone\n",
        "from matplotlib import pyplot as plt\n",
        "from scipy import stats\n",
        "from scipy.spatial.distance import mahalanobis"
      ],
      "execution_count": 0,
      "outputs": []
    },
    {
      "cell_type": "markdown",
      "metadata": {
        "id": "PvEFxEPt6ld8",
        "colab_type": "text"
      },
      "source": [
        "Plotting function to show classifier in a graphic way"
      ]
    },
    {
      "cell_type": "code",
      "metadata": {
        "id": "_v1C73Lt6lKo",
        "colab_type": "code",
        "colab": {}
      },
      "source": [
        "def plotClassifierResults(clf, title):\n",
        "    X = X_train[:, :2]\n",
        "    x_min, x_max = X[:, 0].min() - 1, X[:, 0].max() + 1\n",
        "    y_min, y_max = X[:, 1].min() - 1, X[:, 1].max() + 1\n",
        "    xx, yy = np.meshgrid(np.arange(x_min, x_max, .02), np.arange(y_min, y_max, .02))\n",
        "    \n",
        "    clf.fit(X, Y_train)\n",
        "    Z=clf.predict(np.c_[xx.ravel(), yy.ravel()])\n",
        "    Z=Z.reshape(xx.shape)\n",
        "    plt.figure(figsize=[10,10])\n",
        "    plt.contourf(xx, yy, Z, cmap=plt.cm.RdYlGn, alpha=0.8)\n",
        "    plt.scatter(X[:,0], X[:,1], c=Y_train, cmap=plt.cm.RdYlGn, s=20, edgecolors='k')\n",
        "    plt.xlim(xx.min(), xx.max())\n",
        "    plt.ylim(yy.min(), yy.max())\n",
        "    plt.xlabel('Clump Thickness')\n",
        "    plt.ylabel('Uniformity of Cell Shape')\n",
        "    plt.xticks(())\n",
        "    plt.yticks(())\n",
        "    plt.title(title)\n",
        "    plt.show()"
      ],
      "execution_count": 0,
      "outputs": []
    },
    {
      "cell_type": "markdown",
      "metadata": {
        "id": "HKXDB4_yG_X0",
        "colab_type": "text"
      },
      "source": [
        "Check class balance function"
      ]
    },
    {
      "cell_type": "code",
      "metadata": {
        "id": "Hr5droWoHIvN",
        "colab_type": "code",
        "colab": {}
      },
      "source": [
        "def checkClassBalance(data_tgt):\n",
        "  class1 = data_tgt[data_tgt == 2]\n",
        "  class2 = data_tgt[data_tgt == 4]\n",
        "  plt.hist(class1, color='blue', width=0.5)\n",
        "  plt.hist(class2, color='green', width=0.5)\n",
        "  plt.show()\n",
        "  print(\"Percentage of 2 and 4 are: \", class1.shape[0]/data_tgt.shape[0]*100, \"% and \", class2.shape[0]/data_tgt.shape[0]*100,\"%\")"
      ],
      "execution_count": 0,
      "outputs": []
    },
    {
      "cell_type": "markdown",
      "metadata": {
        "id": "XgXw6Hd12Jpr",
        "colab_type": "text"
      },
      "source": [
        "Find and remove outliers using Malahanobis Distance functions\n",
        "Apply this function just to the Training set."
      ]
    },
    {
      "cell_type": "code",
      "metadata": {
        "id": "ah3JvEVm2Jps",
        "colab_type": "code",
        "colab": {}
      },
      "source": [
        "def mahalanobisDist(X,meanCol,IC):\n",
        "  # calculate Mahalanobis distance for each row of the dataset\n",
        "    m = []\n",
        "    for i in range(X.shape[0]):\n",
        "        m.append(mahalanobis(X.iloc[i,:],meanCol,IC) ** 2)\n",
        "    return(m)\n",
        "\n",
        "def detectOutliersMD(MD, data, extreme=False):\n",
        "  std = np.std(MD)\n",
        "\n",
        "  # I'll use te 68-95-99.7 rule to detect outliers\n",
        "\n",
        "  k = 3. *std if extreme else 2. * std\n",
        "  m = np.mean(MD)\n",
        "  up_t = m+k\n",
        "  low_t = m-k \n",
        "\n",
        "  outliers = []\n",
        "\n",
        "  for i in range(len(MD)):\n",
        "    if (MD[i] >= up_t or MD[i] <= low_t):\n",
        "      outliers.append(i) #index\n",
        "  return np.array(outliers)\n",
        "\n",
        "def detectAndDeleteOutliers(data, tgt):\n",
        "\n",
        "  Sx = data.cov().values\n",
        "  Sx = sp.linalg.inv(Sx)\n",
        "\n",
        "  mean = data.mean().values\n",
        "\n",
        "  mR = mahalanobisDist(data,mean,Sx)\n",
        "\n",
        "  outliers = detectOutliersMD(mR, x)\n",
        "\n",
        "  cleanDs = data.reset_index(drop=True)\n",
        "  cleanTgt = tgt.reset_index(drop=True)\n",
        "\n",
        "#  for o in outliers:\n",
        "  cleanDs = cleanDs.drop(index=outliers)\n",
        "  cleanTgt = cleanTgt.drop(index=outliers)\n",
        "\n",
        "  print(\"Dataset size before OutlierDetection: \", data.shape[0], \"\\nDataset size after OutlierDetection: \", cleanDs.shape[0])\n",
        "\n",
        "  return cleanDs, cleanTgt\n"
      ],
      "execution_count": 0,
      "outputs": []
    },
    {
      "cell_type": "markdown",
      "metadata": {
        "id": "YAFD6QCe2Jpo",
        "colab_type": "text"
      },
      "source": [
        "<p> Read .csv file <p>"
      ]
    },
    {
      "cell_type": "code",
      "metadata": {
        "scrolled": false,
        "id": "JdEyBvh12Jpp",
        "colab_type": "code",
        "colab": {}
      },
      "source": [
        "filename = \"https://raw.githubusercontent.com/Vaelthur/DataSpaces_Tesina/master/breast-cancer-wisconsin.data\"\n",
        "\n",
        "\n",
        "data = pd.read_csv(filename)\n",
        "\n",
        "labels = [\"Sample Number\",\"Clump Thickness\", \"Uniformity of Cell Size\", \"Uniformity of Cell Shape\", \"Marginal Adhesion\", \"Single Epithelial Cell Size\", \"Bare Nuclei\", \"Bland Chromatin\", \"Normal Nucleoli\", \n",
        "\"Mitoses\", \"Class\"]\n",
        "\n",
        "# assing labels to columns\n",
        "data.columns = labels\n",
        "\n",
        "# records with the classification as \"2\" are Benign cancer, \"4\" means malign Cancer."
      ],
      "execution_count": 0,
      "outputs": []
    },
    {
      "cell_type": "markdown",
      "metadata": {
        "id": "HzBW2CNPCvC1",
        "colab_type": "text"
      },
      "source": [
        "Detecting if there are any missing value "
      ]
    },
    {
      "cell_type": "code",
      "metadata": {
        "id": "R6fLq2GiCuor",
        "colab_type": "code",
        "outputId": "35b04b92-c588-41b3-b703-9a7a0623d9d0",
        "colab": {
          "base_uri": "https://localhost:8080/",
          "height": 156
        }
      },
      "source": [
        "print(\"Raw data as taken from repo:\")\n",
        "print(data.shape)\n",
        "data = (data.drop(labels,axis=1)).join(data[labels].apply(pd.to_numeric, errors='coerce'))\n",
        "data = data[data[labels].notnull().all(axis=1)]\n",
        "print(\"\\nData without null values\")\n",
        "print(data.shape)\n",
        "\n",
        "# remove first column as it is just sample number that identify the patient\n",
        "data = data.iloc[:, 1:11]\n",
        "print(\"\\nData without first Column \\\"Sample Number\\\"\")\n",
        "print(data.shape)\n",
        "\n",
        "# data without classification - needed for outlier detection\n",
        "x = data.iloc[:, 0:9]"
      ],
      "execution_count": 21,
      "outputs": [
        {
          "output_type": "stream",
          "text": [
            "Raw data as taken from repo:\n",
            "(698, 11)\n",
            "\n",
            "Data without null values\n",
            "(682, 11)\n",
            "\n",
            "Data without first Column \"Sample Number\"\n",
            "(682, 10)\n"
          ],
          "name": "stdout"
        }
      ]
    },
    {
      "cell_type": "markdown",
      "metadata": {
        "id": "CWTrLjA6Ob3H",
        "colab_type": "text"
      },
      "source": [
        "As stated in the dataset description there should have been some missing values, denoted by the non numerical value '?'. Knowing this I have been able to perform the search for missing value just looking for non-numerical values and (since there were just 16) dropping the corresponding rows. "
      ]
    },
    {
      "cell_type": "code",
      "metadata": {
        "id": "sW-p9wQlZHBK",
        "colab_type": "code",
        "outputId": "9717d43e-c738-456a-a74a-11b081a68424",
        "colab": {
          "base_uri": "https://localhost:8080/",
          "height": 282
        }
      },
      "source": [
        "clss = data.iloc[:, 9]\n",
        "checkClassBalance(clss)"
      ],
      "execution_count": 22,
      "outputs": [
        {
          "output_type": "display_data",
          "data": {
            "image/png": "[encoded data removed]",
            "text/plain": [
              "<Figure size 432x288 with 1 Axes>"
            ]
          },
          "metadata": {
            "tags": [],
            "needs_background": "light"
          }
        },
        {
          "output_type": "stream",
          "text": [
            "Percentage of 2 and 4 are:  64.95601173020528 % and  35.043988269794724 %\n"
          ],
          "name": "stdout"
        }
      ]
    },
    {
      "cell_type": "markdown",
      "metadata": {
        "id": "t3FYKtAoLzAu",
        "colab_type": "text"
      },
      "source": [
        "Observing the percentage of the two classes we can identify this dataset as imbalanced since the two classes go over the 60/40 ratio so it's not acceptable and we need to provide some more balance i.e.\n",
        "- stratifying when splitting into train and test\n",
        "- using library to artificially generate data to balance class, but new data must only be used during the training process and not during validation or test phases."
      ]
    },
    {
      "cell_type": "markdown",
      "metadata": {
        "id": "mOMyhUIonUq-",
        "colab_type": "text"
      },
      "source": [
        "<p>Correlation Matrix to study correlation between data.</p>"
      ]
    },
    {
      "cell_type": "code",
      "metadata": {
        "id": "17d4NxYLnUD0",
        "colab_type": "code",
        "outputId": "d0c1b662-0224-450b-afe0-c62353f7ff4a",
        "colab": {
          "base_uri": "https://localhost:8080/",
          "height": 728
        }
      },
      "source": [
        "cm = data.corr() # Compute pairwise correlation of columns\n",
        "mask = np.array(cm)\n",
        "mask[np.tril_indices_from(mask)] = False\n",
        "fig = plt.gcf()\n",
        "fig.set_size_inches(25,10)\n",
        "sn.heatmap(data=cm, mask=mask, square=True, annot=True, cbar=True)"
      ],
      "execution_count": 23,
      "outputs": [
        {
          "output_type": "execute_result",
          "data": {
            "text/plain": [
              "<matplotlib.axes._subplots.AxesSubplot at 0x7f05c539a828>"
            ]
          },
          "metadata": {
            "tags": []
          },
          "execution_count": 23
        },
        {
          "output_type": "display_data",
          "data": {
            "image/png": "[encoded data removed]",
            "text/plain": [
              "<Figure size 1800x720 with 2 Axes>"
            ]
          },
          "metadata": {
            "tags": [],
            "needs_background": "light"
          }
        }
      ]
    },
    {
      "cell_type": "markdown",
      "metadata": {
        "id": "D43o8mUfy1Yg",
        "colab_type": "text"
      },
      "source": [
        "We can observe that the correlation coefficients are generally good, with the Mitoses feature to be the more uncorrelated with a coeffient of 0.42.\n",
        "Thanks to this matrix we can see which features are more correlated with each other respect to others. We notice from here that <i>Uniformity of cell size</i> and <i>Uniformity of cell shape</i> features are highly correlated with each other, so we can drop one."
      ]
    },
    {
      "cell_type": "code",
      "metadata": {
        "id": "WN6uXD37ELZR",
        "colab_type": "code",
        "colab": {}
      },
      "source": [
        "data.drop('Uniformity of Cell Size', axis=1, inplace=True)"
      ],
      "execution_count": 0,
      "outputs": []
    },
    {
      "cell_type": "markdown",
      "metadata": {
        "id": "elr82uRvXWcn",
        "colab_type": "text"
      },
      "source": [
        "Pairwise plot of class distinction"
      ]
    },
    {
      "cell_type": "code",
      "metadata": {
        "id": "03EBdN5cXb28",
        "colab_type": "code",
        "colab": {}
      },
      "source": [
        "sn.pairplot(data, hue='Class')"
      ],
      "execution_count": 0,
      "outputs": []
    },
    {
      "cell_type": "markdown",
      "metadata": {
        "id": "d2HEg1bF2Jpw",
        "colab_type": "text"
      },
      "source": [
        "Reading the dataset description and observing the values inside it we can see that every feature is already scaled ina reange between 1 and 10, so we can affirm that data is already scaled because we have the same scale for each feature.\n",
        "\n",
        "Knowing this, the <b>preprocessing</b> phase consist just in the split between train and Test sets and the further Train set balancing."
      ]
    },
    {
      "cell_type": "code",
      "metadata": {
        "id": "_SX9Mcc_2Jpw",
        "colab_type": "code",
        "outputId": "0dce6e42-e75b-4b50-ba4c-9918a83fd968",
        "colab": {
          "base_uri": "https://localhost:8080/",
          "height": 619
        }
      },
      "source": [
        "Y = data.iloc[:, 8]\n",
        "X = data.iloc[:, 0:8]\n",
        "\n",
        "X_train, X_test, Y_train, Y_test = model_selection.train_test_split(X, Y, random_state=np.random.randint(0,100), test_size=0.25, shuffle=True)\n",
        "\n",
        "checkClassBalance(Y_train)\n",
        "print()\n",
        "# edit function in order to get back also outliers and add them to test ds\n",
        "X_train, Y_train = detectAndDeleteOutliers(X_train, Y_train)\n",
        "print()\n",
        "checkClassBalance(Y_train)"
      ],
      "execution_count": 25,
      "outputs": [
        {
          "output_type": "display_data",
          "data": {
            "image/png": "[encoded data removed]",
            "text/plain": [
              "<Figure size 432x288 with 1 Axes>"
            ]
          },
          "metadata": {
            "tags": [],
            "needs_background": "light"
          }
        },
        {
          "output_type": "stream",
          "text": [
            "Percentage of 2 and 4 are:  66.34050880626224 % and  33.659491193737765 %\n",
            "\n",
            "Dataset size before OutlierDetection:  511 \n",
            "Dataset size after OutlierDetection:  481\n",
            "\n"
          ],
          "name": "stdout"
        },
        {
          "output_type": "display_data",
          "data": {
            "image/png": "[encoded data removed]",
            "text/plain": [
              "<Figure size 432x288 with 1 Axes>"
            ]
          },
          "metadata": {
            "tags": [],
            "needs_background": "light"
          }
        },
        {
          "output_type": "stream",
          "text": [
            "Percentage of 2 and 4 are:  70.27027027027027 % and  29.72972972972973 %\n"
          ],
          "name": "stdout"
        }
      ]
    },
    {
      "cell_type": "markdown",
      "metadata": {
        "id": "qKATte1frOla",
        "colab_type": "text"
      },
      "source": [
        "Now that I have observed the difference in distribution between the two classes in my training set I have two options: I can either undersample my dataset or artifically augment it in order to have more training samples.\n",
        "\n",
        "In the following I tried to augment my data using SMOTE to generate new samples, but I noticed that many algorithms overfit with this method, so I'll try undersampling my data instead of augmenting it."
      ]
    },
    {
      "cell_type": "code",
      "metadata": {
        "id": "dEd95X2urL0t",
        "colab_type": "code",
        "colab": {}
      },
      "source": [
        "# 1st attempt: augment training data and go on with classification\n",
        "\n",
        "# oversample = SMOTE()\n",
        "# X_train, Y_train = oversample.fit_resample(X,Y)\n",
        "\n",
        "# checkClassBalance(Y_train)\n",
        "\n",
        "# OVERFITS"
      ],
      "execution_count": 0,
      "outputs": []
    },
    {
      "cell_type": "markdown",
      "metadata": {
        "id": "22Xok1oHbItp",
        "colab_type": "text"
      },
      "source": [
        "Here I will undersample my datasets by taking out some samples from the majority class in order to even it with the minority class."
      ]
    },
    {
      "cell_type": "code",
      "metadata": {
        "id": "xEO4JCz9bIWQ",
        "colab_type": "code",
        "outputId": "2837bd38-a68c-41e7-b1e7-8510a9d923e9",
        "colab": {
          "base_uri": "https://localhost:8080/",
          "height": 317
        }
      },
      "source": [
        "rus = RandomUnderSampler(random_state=0)\n",
        "X_train, Y_train = rus.fit_resample(X_train, Y_train)\n",
        "\n",
        "checkClassBalance(Y_train)\n",
        "\n",
        "# STILL OVERFITTING "
      ],
      "execution_count": 26,
      "outputs": [
        {
          "output_type": "stream",
          "text": [
            "/usr/local/lib/python3.6/dist-packages/sklearn/utils/deprecation.py:87: FutureWarning: Function safe_indexing is deprecated; safe_indexing is deprecated in version 0.22 and will be removed in version 0.24.\n",
            "  warnings.warn(msg, category=FutureWarning)\n"
          ],
          "name": "stderr"
        },
        {
          "output_type": "display_data",
          "data": {
            "image/png": "[encoded data removed]",
            "text/plain": [
              "<Figure size 432x288 with 1 Axes>"
            ]
          },
          "metadata": {
            "tags": [],
            "needs_background": "light"
          }
        },
        {
          "output_type": "stream",
          "text": [
            "Percentage of 2 and 4 are:  50.0 % and  50.0 %\n"
          ],
          "name": "stdout"
        }
      ]
    },
    {
      "cell_type": "markdown",
      "metadata": {
        "id": "3oNmY3Wh2Jpy",
        "colab_type": "text"
      },
      "source": [
        "<p><u>K-NN</u></p>"
      ]
    },
    {
      "cell_type": "code",
      "metadata": {
        "id": "ynrm9pYY2Jpz",
        "colab_type": "code",
        "outputId": "ce1124a1-fd2d-4eb5-e71a-1e255464735b",
        "colab": {
          "base_uri": "https://localhost:8080/",
          "height": 86
        }
      },
      "source": [
        "# array of possible K to apply KNN neighbors\n",
        "ks = [3,5,7,9]\n",
        "\n",
        "for k in ks:\n",
        "    n_neighbors = k\n",
        "    \n",
        "    # Create an instance of neighbors classifier (clf) and fit the data\n",
        "    clf = neighbors.KNeighborsClassifier(n_neighbors)\n",
        "    \n",
        "    # train the classifier on the training set\n",
        "    clf.fit(X_train, Y_train)\n",
        "    \n",
        "    print(\"Accuracy score on the test set with K =\",n_neighbors,\"is %.3f\" %(clf.score(X_test, Y_test)))\n",
        "\n",
        "\n",
        "    "
      ],
      "execution_count": 27,
      "outputs": [
        {
          "output_type": "stream",
          "text": [
            "Accuracy score on the test set with K = 3 is 0.982\n",
            "Accuracy score on the test set with K = 5 is 0.982\n",
            "Accuracy score on the test set with K = 7 is 0.971\n",
            "Accuracy score on the test set with K = 9 is 0.965\n"
          ],
          "name": "stdout"
        }
      ]
    },
    {
      "cell_type": "markdown",
      "metadata": {
        "id": "ZMIebd3i2Jp1",
        "colab_type": "text"
      },
      "source": [
        "<p><u>Logistic Regression</u><p>"
      ]
    },
    {
      "cell_type": "code",
      "metadata": {
        "id": "MF0n46z92Jp2",
        "colab_type": "code",
        "outputId": "5d4ee593-c410-473f-d47c-01b7f42b8695",
        "colab": {
          "base_uri": "https://localhost:8080/",
          "height": 779
        }
      },
      "source": [
        "logReg = LogisticRegression(solver=\"lbfgs\", max_iter=2000) # instance of the model\n",
        "\n",
        "logReg.fit(X_train, Y_train)\n",
        "\n",
        "logReg2 = clone(logReg)\n",
        "\n",
        "plotClassifierResults(logReg2, \"Logistic Regression\")\n",
        "\n",
        "print(\"Accuracy: \", logReg.score(X_test, Y_test))\n",
        "print(classification_report(Y_test, logReg.predict(X_test)))"
      ],
      "execution_count": 38,
      "outputs": [
        {
          "output_type": "display_data",
          "data": {
            "image/png": "[encoded data removed]",
            "text/plain": [
              "<Figure size 720x720 with 1 Axes>"
            ]
          },
          "metadata": {
            "tags": []
          }
        },
        {
          "output_type": "stream",
          "text": [
            "Accuracy:  0.9766081871345029\n",
            "              precision    recall  f1-score   support\n",
            "\n",
            "           2       0.97      0.99      0.98       104\n",
            "           4       0.98      0.96      0.97        67\n",
            "\n",
            "    accuracy                           0.98       171\n",
            "   macro avg       0.98      0.97      0.98       171\n",
            "weighted avg       0.98      0.98      0.98       171\n",
            "\n"
          ],
          "name": "stdout"
        }
      ]
    },
    {
      "cell_type": "markdown",
      "metadata": {
        "id": "A9vmd3bY2Jp5",
        "colab_type": "text"
      },
      "source": [
        "<p><u> Random forest</u> </p>"
      ]
    },
    {
      "cell_type": "code",
      "metadata": {
        "scrolled": true,
        "id": "UoqXcIjn2Jp6",
        "colab_type": "code",
        "outputId": "f2156560-1603-435e-fa33-26bf1f0d21d1",
        "colab": {
          "base_uri": "https://localhost:8080/",
          "height": 796
        }
      },
      "source": [
        "rndFor = RandomForestClassifier(n_estimators = 100, criterion=\"entropy\")\n",
        "\n",
        "# cross validation to prevent overfitting\n",
        "kf = model_selection.KFold(n_splits=5)\n",
        "\n",
        "accuracy = []\n",
        "\n",
        "for tr_ind, te_ind in kf.split(X_train):\n",
        "  X_t, X_v = X_train[tr_ind], X_train[te_ind]\n",
        "  Y_t, Y_v = Y_train[tr_ind], Y_train[te_ind]\n",
        "  rndFor.fit(X_t, Y_t)\n",
        "  accuracy.append(metrics.accuracy_score(Y_v, rndFor.predict(X_v), normalize=True)*100)\n",
        "\n",
        "y_pred = rndFor.predict(X_test)\n",
        "\n",
        "rndFor2 = clone(rndFor)\n",
        "\n",
        "plotClassifierResults(rndFor2, 'Random Forest')\n",
        "\n",
        "print(\"\\nAccuracy: \", metrics.accuracy_score(Y_test, y_pred))\n",
        "print(classification_report(Y_test, rndFor.predict(X_test)))"
      ],
      "execution_count": 37,
      "outputs": [
        {
          "output_type": "display_data",
          "data": {
            "image/png": "[encoded data removed]",
            "text/plain": [
              "<Figure size 720x720 with 1 Axes>"
            ]
          },
          "metadata": {
            "tags": []
          }
        },
        {
          "output_type": "stream",
          "text": [
            "\n",
            "Accuracy:  0.9766081871345029\n",
            "              precision    recall  f1-score   support\n",
            "\n",
            "           2       0.97      0.99      0.98       104\n",
            "           4       0.98      0.96      0.97        67\n",
            "\n",
            "    accuracy                           0.98       171\n",
            "   macro avg       0.98      0.97      0.98       171\n",
            "weighted avg       0.98      0.98      0.98       171\n",
            "\n"
          ],
          "name": "stdout"
        }
      ]
    },
    {
      "cell_type": "markdown",
      "metadata": {
        "id": "0YABn3bm2Jp8",
        "colab_type": "text"
      },
      "source": [
        "<p><u> SVM</u> </p>"
      ]
    },
    {
      "cell_type": "code",
      "metadata": {
        "id": "kKKVE9E82Jp9",
        "colab_type": "code",
        "outputId": "338689e4-6f90-4525-aeba-0d6c530fc425",
        "colab": {
          "base_uri": "https://localhost:8080/",
          "height": 191
        }
      },
      "source": [
        "svc = SVC(gamma='auto', kernel='rbf')\n",
        "kf = model_selection.KFold(n_splits=5)\n",
        "\n",
        "accuracy = []\n",
        "\n",
        "for tr_ind, te_ind in kf.split(X_train):\n",
        "  X_t, X_v = X_train[tr_ind], X_train[te_ind]\n",
        "  Y_t, Y_v = Y_train[tr_ind], Y_train[te_ind]\n",
        "  svc.fit(X_t, Y_t)\n",
        "  accuracy.append(metrics.accuracy_score(Y_v, svc.predict(X_v), normalize=True)*100)\n",
        "\n",
        "print(classification_report(Y_test, svc.predict(X_test)),\"\\n\")"
      ],
      "execution_count": 12,
      "outputs": [
        {
          "output_type": "stream",
          "text": [
            "              precision    recall  f1-score   support\n",
            "\n",
            "           2       1.00      0.92      0.96       106\n",
            "           4       0.88      1.00      0.94        65\n",
            "\n",
            "    accuracy                           0.95       171\n",
            "   macro avg       0.94      0.96      0.95       171\n",
            "weighted avg       0.95      0.95      0.95       171\n",
            " \n",
            "\n"
          ],
          "name": "stdout"
        }
      ]
    },
    {
      "cell_type": "markdown",
      "metadata": {
        "id": "CRaMOf5m2Jp_",
        "colab_type": "text"
      },
      "source": [
        "So this is the accuracy with the default parameters, but with SVM approach is necessary to perform some parameters tuning in order to achieve a better result and, with the KFold validation, avoid Overfitting . To do so I relied on the GridSearch.\n",
        "<u> SVM with GridSearch </u>"
      ]
    },
    {
      "cell_type": "code",
      "metadata": {
        "scrolled": true,
        "id": "teTBZ_m42Jp_",
        "colab_type": "code",
        "outputId": "83364238-4759-4fe8-f243-56cca55bbf48",
        "colab": {
          "base_uri": "https://localhost:8080/",
          "height": 556
        }
      },
      "source": [
        "parameters = [{'C': [0.1, 0.2, 1, 10, 100, 1000], 'gamma': [0.0001, 0.001, 0.01, 0.1, 0.25, 1], 'kernel': ['rbf', 'poly', 'sigmoid']}]\n",
        "svcGS = GridSearchCV(SVC(), parameters, n_jobs=-1, cv=10)\n",
        "\n",
        "kf = model_selection.KFold(n_splits=5)\n",
        "\n",
        "accuracy = []\n",
        "\n",
        "for tr_ind, te_ind in kf.split(X_train):\n",
        "  X_t, X_v = X_train[tr_ind], X_train[te_ind]\n",
        "  Y_t, Y_v = Y_train[tr_ind], Y_train[te_ind]\n",
        "  svcGS.fit(X_t, Y_t)\n",
        "  accuracy.append(metrics.accuracy_score(Y_v, svcGS.predict(X_v), normalize=True)*100)\n",
        "\n",
        "print(classification_report(Y_test, svcGS.predict(X_test)),\"\\n\")\n",
        "\n",
        "svcGS2 = clone(svcGS)\n",
        "\n",
        "plotClassifierResults(svcGS2, 'Support Vector Classifier')\n",
        "\n",
        "print(\"Confusion Matrix\")\n",
        "print(metrics.confusion_matrix(Y_test, svcGS.predict(X_test)))"
      ],
      "execution_count": 41,
      "outputs": [
        {
          "output_type": "stream",
          "text": [
            "              precision    recall  f1-score   support\n",
            "\n",
            "           2       0.98      0.97      0.98       104\n",
            "           4       0.96      0.97      0.96        67\n",
            "\n",
            "    accuracy                           0.97       171\n",
            "   macro avg       0.97      0.97      0.97       171\n",
            "weighted avg       0.97      0.97      0.97       171\n",
            " \n",
            "\n"
          ],
          "name": "stdout"
        },
        {
          "output_type": "error",
          "ename": "KeyboardInterrupt",
          "evalue": "ignored",
          "traceback": [
            "\u001b[0;31m---------------------------------------------------------------------------\u001b[0m",
            "\u001b[0;31mKeyboardInterrupt\u001b[0m                         Traceback (most recent call last)",
            "\u001b[0;32m<ipython-input-41-4ff43f0eddb2>\u001b[0m in \u001b[0;36m<module>\u001b[0;34m()\u001b[0m\n\u001b[1;32m     16\u001b[0m \u001b[0msvcGS2\u001b[0m \u001b[0;34m=\u001b[0m \u001b[0mclone\u001b[0m\u001b[0;34m(\u001b[0m\u001b[0msvcGS\u001b[0m\u001b[0;34m)\u001b[0m\u001b[0;34m\u001b[0m\u001b[0;34m\u001b[0m\u001b[0m\n\u001b[1;32m     17\u001b[0m \u001b[0;34m\u001b[0m\u001b[0m\n\u001b[0;32m---> 18\u001b[0;31m \u001b[0mplotClassifierResults\u001b[0m\u001b[0;34m(\u001b[0m\u001b[0msvcGS2\u001b[0m\u001b[0;34m,\u001b[0m \u001b[0;34m'Support Vector Classifier'\u001b[0m\u001b[0;34m)\u001b[0m\u001b[0;34m\u001b[0m\u001b[0;34m\u001b[0m\u001b[0m\n\u001b[0m\u001b[1;32m     19\u001b[0m \u001b[0;34m\u001b[0m\u001b[0m\n\u001b[1;32m     20\u001b[0m \u001b[0mprint\u001b[0m\u001b[0;34m(\u001b[0m\u001b[0;34m\"Confusion Matrix\"\u001b[0m\u001b[0;34m)\u001b[0m\u001b[0;34m\u001b[0m\u001b[0;34m\u001b[0m\u001b[0m\n",
            "\u001b[0;32m<ipython-input-33-ab4dd3c9dfc8>\u001b[0m in \u001b[0;36mplotClassifierResults\u001b[0;34m(clf, title)\u001b[0m\n\u001b[1;32m      5\u001b[0m     \u001b[0mxx\u001b[0m\u001b[0;34m,\u001b[0m \u001b[0myy\u001b[0m \u001b[0;34m=\u001b[0m \u001b[0mnp\u001b[0m\u001b[0;34m.\u001b[0m\u001b[0mmeshgrid\u001b[0m\u001b[0;34m(\u001b[0m\u001b[0mnp\u001b[0m\u001b[0;34m.\u001b[0m\u001b[0marange\u001b[0m\u001b[0;34m(\u001b[0m\u001b[0mx_min\u001b[0m\u001b[0;34m,\u001b[0m \u001b[0mx_max\u001b[0m\u001b[0;34m,\u001b[0m \u001b[0;36m.02\u001b[0m\u001b[0;34m)\u001b[0m\u001b[0;34m,\u001b[0m \u001b[0mnp\u001b[0m\u001b[0;34m.\u001b[0m\u001b[0marange\u001b[0m\u001b[0;34m(\u001b[0m\u001b[0my_min\u001b[0m\u001b[0;34m,\u001b[0m \u001b[0my_max\u001b[0m\u001b[0;34m,\u001b[0m \u001b[0;36m.02\u001b[0m\u001b[0;34m)\u001b[0m\u001b[0;34m)\u001b[0m\u001b[0;34m\u001b[0m\u001b[0;34m\u001b[0m\u001b[0m\n\u001b[1;32m      6\u001b[0m \u001b[0;34m\u001b[0m\u001b[0m\n\u001b[0;32m----> 7\u001b[0;31m     \u001b[0mclf\u001b[0m\u001b[0;34m.\u001b[0m\u001b[0mfit\u001b[0m\u001b[0;34m(\u001b[0m\u001b[0mX\u001b[0m\u001b[0;34m,\u001b[0m \u001b[0mY_train\u001b[0m\u001b[0;34m)\u001b[0m\u001b[0;34m\u001b[0m\u001b[0;34m\u001b[0m\u001b[0m\n\u001b[0m\u001b[1;32m      8\u001b[0m     \u001b[0mZ\u001b[0m\u001b[0;34m=\u001b[0m\u001b[0mclf\u001b[0m\u001b[0;34m.\u001b[0m\u001b[0mpredict\u001b[0m\u001b[0;34m(\u001b[0m\u001b[0mnp\u001b[0m\u001b[0;34m.\u001b[0m\u001b[0mc_\u001b[0m\u001b[0;34m[\u001b[0m\u001b[0mxx\u001b[0m\u001b[0;34m.\u001b[0m\u001b[0mravel\u001b[0m\u001b[0;34m(\u001b[0m\u001b[0;34m)\u001b[0m\u001b[0;34m,\u001b[0m \u001b[0myy\u001b[0m\u001b[0;34m.\u001b[0m\u001b[0mravel\u001b[0m\u001b[0;34m(\u001b[0m\u001b[0;34m)\u001b[0m\u001b[0;34m]\u001b[0m\u001b[0;34m)\u001b[0m\u001b[0;34m\u001b[0m\u001b[0;34m\u001b[0m\u001b[0m\n\u001b[1;32m      9\u001b[0m     \u001b[0mZ\u001b[0m\u001b[0;34m=\u001b[0m\u001b[0mZ\u001b[0m\u001b[0;34m.\u001b[0m\u001b[0mreshape\u001b[0m\u001b[0;34m(\u001b[0m\u001b[0mxx\u001b[0m\u001b[0;34m.\u001b[0m\u001b[0mshape\u001b[0m\u001b[0;34m)\u001b[0m\u001b[0;34m\u001b[0m\u001b[0;34m\u001b[0m\u001b[0m\n",
            "\u001b[0;32m/usr/local/lib/python3.6/dist-packages/sklearn/model_selection/_search.py\u001b[0m in \u001b[0;36mfit\u001b[0;34m(self, X, y, groups, **fit_params)\u001b[0m\n\u001b[1;32m    708\u001b[0m                 \u001b[0;32mreturn\u001b[0m \u001b[0mresults\u001b[0m\u001b[0;34m\u001b[0m\u001b[0;34m\u001b[0m\u001b[0m\n\u001b[1;32m    709\u001b[0m \u001b[0;34m\u001b[0m\u001b[0m\n\u001b[0;32m--> 710\u001b[0;31m             \u001b[0mself\u001b[0m\u001b[0;34m.\u001b[0m\u001b[0m_run_search\u001b[0m\u001b[0;34m(\u001b[0m\u001b[0mevaluate_candidates\u001b[0m\u001b[0;34m)\u001b[0m\u001b[0;34m\u001b[0m\u001b[0;34m\u001b[0m\u001b[0m\n\u001b[0m\u001b[1;32m    711\u001b[0m \u001b[0;34m\u001b[0m\u001b[0m\n\u001b[1;32m    712\u001b[0m         \u001b[0;31m# For multi-metric evaluation, store the best_index_, best_params_ and\u001b[0m\u001b[0;34m\u001b[0m\u001b[0;34m\u001b[0m\u001b[0;34m\u001b[0m\u001b[0m\n",
            "\u001b[0;32m/usr/local/lib/python3.6/dist-packages/sklearn/model_selection/_search.py\u001b[0m in \u001b[0;36m_run_search\u001b[0;34m(self, evaluate_candidates)\u001b[0m\n\u001b[1;32m   1149\u001b[0m     \u001b[0;32mdef\u001b[0m \u001b[0m_run_search\u001b[0m\u001b[0;34m(\u001b[0m\u001b[0mself\u001b[0m\u001b[0;34m,\u001b[0m \u001b[0mevaluate_candidates\u001b[0m\u001b[0;34m)\u001b[0m\u001b[0;34m:\u001b[0m\u001b[0;34m\u001b[0m\u001b[0;34m\u001b[0m\u001b[0m\n\u001b[1;32m   1150\u001b[0m         \u001b[0;34m\"\"\"Search all candidates in param_grid\"\"\"\u001b[0m\u001b[0;34m\u001b[0m\u001b[0;34m\u001b[0m\u001b[0m\n\u001b[0;32m-> 1151\u001b[0;31m         \u001b[0mevaluate_candidates\u001b[0m\u001b[0;34m(\u001b[0m\u001b[0mParameterGrid\u001b[0m\u001b[0;34m(\u001b[0m\u001b[0mself\u001b[0m\u001b[0;34m.\u001b[0m\u001b[0mparam_grid\u001b[0m\u001b[0;34m)\u001b[0m\u001b[0;34m)\u001b[0m\u001b[0;34m\u001b[0m\u001b[0;34m\u001b[0m\u001b[0m\n\u001b[0m\u001b[1;32m   1152\u001b[0m \u001b[0;34m\u001b[0m\u001b[0m\n\u001b[1;32m   1153\u001b[0m \u001b[0;34m\u001b[0m\u001b[0m\n",
            "\u001b[0;32m/usr/local/lib/python3.6/dist-packages/sklearn/model_selection/_search.py\u001b[0m in \u001b[0;36mevaluate_candidates\u001b[0;34m(candidate_params)\u001b[0m\n\u001b[1;32m    687\u001b[0m                                \u001b[0;32mfor\u001b[0m \u001b[0mparameters\u001b[0m\u001b[0;34m,\u001b[0m \u001b[0;34m(\u001b[0m\u001b[0mtrain\u001b[0m\u001b[0;34m,\u001b[0m \u001b[0mtest\u001b[0m\u001b[0;34m)\u001b[0m\u001b[0;34m\u001b[0m\u001b[0;34m\u001b[0m\u001b[0m\n\u001b[1;32m    688\u001b[0m                                in product(candidate_params,\n\u001b[0;32m--> 689\u001b[0;31m                                           cv.split(X, y, groups)))\n\u001b[0m\u001b[1;32m    690\u001b[0m \u001b[0;34m\u001b[0m\u001b[0m\n\u001b[1;32m    691\u001b[0m                 \u001b[0;32mif\u001b[0m \u001b[0mlen\u001b[0m\u001b[0;34m(\u001b[0m\u001b[0mout\u001b[0m\u001b[0;34m)\u001b[0m \u001b[0;34m<\u001b[0m \u001b[0;36m1\u001b[0m\u001b[0;34m:\u001b[0m\u001b[0;34m\u001b[0m\u001b[0;34m\u001b[0m\u001b[0m\n",
            "\u001b[0;32m/usr/local/lib/python3.6/dist-packages/joblib/parallel.py\u001b[0m in \u001b[0;36m__call__\u001b[0;34m(self, iterable)\u001b[0m\n\u001b[1;32m   1040\u001b[0m \u001b[0;34m\u001b[0m\u001b[0m\n\u001b[1;32m   1041\u001b[0m             \u001b[0;32mwith\u001b[0m \u001b[0mself\u001b[0m\u001b[0;34m.\u001b[0m\u001b[0m_backend\u001b[0m\u001b[0;34m.\u001b[0m\u001b[0mretrieval_context\u001b[0m\u001b[0;34m(\u001b[0m\u001b[0;34m)\u001b[0m\u001b[0;34m:\u001b[0m\u001b[0;34m\u001b[0m\u001b[0;34m\u001b[0m\u001b[0m\n\u001b[0;32m-> 1042\u001b[0;31m                 \u001b[0mself\u001b[0m\u001b[0;34m.\u001b[0m\u001b[0mretrieve\u001b[0m\u001b[0;34m(\u001b[0m\u001b[0;34m)\u001b[0m\u001b[0;34m\u001b[0m\u001b[0;34m\u001b[0m\u001b[0m\n\u001b[0m\u001b[1;32m   1043\u001b[0m             \u001b[0;31m# Make sure that we get a last message telling us we are done\u001b[0m\u001b[0;34m\u001b[0m\u001b[0;34m\u001b[0m\u001b[0;34m\u001b[0m\u001b[0m\n\u001b[1;32m   1044\u001b[0m             \u001b[0melapsed_time\u001b[0m \u001b[0;34m=\u001b[0m \u001b[0mtime\u001b[0m\u001b[0;34m.\u001b[0m\u001b[0mtime\u001b[0m\u001b[0;34m(\u001b[0m\u001b[0;34m)\u001b[0m \u001b[0;34m-\u001b[0m \u001b[0mself\u001b[0m\u001b[0;34m.\u001b[0m\u001b[0m_start_time\u001b[0m\u001b[0;34m\u001b[0m\u001b[0;34m\u001b[0m\u001b[0m\n",
            "\u001b[0;32m/usr/local/lib/python3.6/dist-packages/joblib/parallel.py\u001b[0m in \u001b[0;36mretrieve\u001b[0;34m(self)\u001b[0m\n\u001b[1;32m    919\u001b[0m             \u001b[0;32mtry\u001b[0m\u001b[0;34m:\u001b[0m\u001b[0;34m\u001b[0m\u001b[0;34m\u001b[0m\u001b[0m\n\u001b[1;32m    920\u001b[0m                 \u001b[0;32mif\u001b[0m \u001b[0mgetattr\u001b[0m\u001b[0;34m(\u001b[0m\u001b[0mself\u001b[0m\u001b[0;34m.\u001b[0m\u001b[0m_backend\u001b[0m\u001b[0;34m,\u001b[0m \u001b[0;34m'supports_timeout'\u001b[0m\u001b[0;34m,\u001b[0m \u001b[0;32mFalse\u001b[0m\u001b[0;34m)\u001b[0m\u001b[0;34m:\u001b[0m\u001b[0;34m\u001b[0m\u001b[0;34m\u001b[0m\u001b[0m\n\u001b[0;32m--> 921\u001b[0;31m                     \u001b[0mself\u001b[0m\u001b[0;34m.\u001b[0m\u001b[0m_output\u001b[0m\u001b[0;34m.\u001b[0m\u001b[0mextend\u001b[0m\u001b[0;34m(\u001b[0m\u001b[0mjob\u001b[0m\u001b[0;34m.\u001b[0m\u001b[0mget\u001b[0m\u001b[0;34m(\u001b[0m\u001b[0mtimeout\u001b[0m\u001b[0;34m=\u001b[0m\u001b[0mself\u001b[0m\u001b[0;34m.\u001b[0m\u001b[0mtimeout\u001b[0m\u001b[0;34m)\u001b[0m\u001b[0;34m)\u001b[0m\u001b[0;34m\u001b[0m\u001b[0;34m\u001b[0m\u001b[0m\n\u001b[0m\u001b[1;32m    922\u001b[0m                 \u001b[0;32melse\u001b[0m\u001b[0;34m:\u001b[0m\u001b[0;34m\u001b[0m\u001b[0;34m\u001b[0m\u001b[0m\n\u001b[1;32m    923\u001b[0m                     \u001b[0mself\u001b[0m\u001b[0;34m.\u001b[0m\u001b[0m_output\u001b[0m\u001b[0;34m.\u001b[0m\u001b[0mextend\u001b[0m\u001b[0;34m(\u001b[0m\u001b[0mjob\u001b[0m\u001b[0;34m.\u001b[0m\u001b[0mget\u001b[0m\u001b[0;34m(\u001b[0m\u001b[0;34m)\u001b[0m\u001b[0;34m)\u001b[0m\u001b[0;34m\u001b[0m\u001b[0;34m\u001b[0m\u001b[0m\n",
            "\u001b[0;32m/usr/local/lib/python3.6/dist-packages/joblib/_parallel_backends.py\u001b[0m in \u001b[0;36mwrap_future_result\u001b[0;34m(future, timeout)\u001b[0m\n\u001b[1;32m    538\u001b[0m         AsyncResults.get from multiprocessing.\"\"\"\n\u001b[1;32m    539\u001b[0m         \u001b[0;32mtry\u001b[0m\u001b[0;34m:\u001b[0m\u001b[0;34m\u001b[0m\u001b[0;34m\u001b[0m\u001b[0m\n\u001b[0;32m--> 540\u001b[0;31m             \u001b[0;32mreturn\u001b[0m \u001b[0mfuture\u001b[0m\u001b[0;34m.\u001b[0m\u001b[0mresult\u001b[0m\u001b[0;34m(\u001b[0m\u001b[0mtimeout\u001b[0m\u001b[0;34m=\u001b[0m\u001b[0mtimeout\u001b[0m\u001b[0;34m)\u001b[0m\u001b[0;34m\u001b[0m\u001b[0;34m\u001b[0m\u001b[0m\n\u001b[0m\u001b[1;32m    541\u001b[0m         \u001b[0;32mexcept\u001b[0m \u001b[0mCfTimeoutError\u001b[0m\u001b[0;34m:\u001b[0m\u001b[0;34m\u001b[0m\u001b[0;34m\u001b[0m\u001b[0m\n\u001b[1;32m    542\u001b[0m             \u001b[0;32mraise\u001b[0m \u001b[0mTimeoutError\u001b[0m\u001b[0;34m(\u001b[0m\u001b[0;34m)\u001b[0m\u001b[0;34m\u001b[0m\u001b[0;34m\u001b[0m\u001b[0m\n",
            "\u001b[0;32m/usr/lib/python3.6/concurrent/futures/_base.py\u001b[0m in \u001b[0;36mresult\u001b[0;34m(self, timeout)\u001b[0m\n\u001b[1;32m    425\u001b[0m                 \u001b[0;32mreturn\u001b[0m \u001b[0mself\u001b[0m\u001b[0;34m.\u001b[0m\u001b[0m__get_result\u001b[0m\u001b[0;34m(\u001b[0m\u001b[0;34m)\u001b[0m\u001b[0;34m\u001b[0m\u001b[0;34m\u001b[0m\u001b[0m\n\u001b[1;32m    426\u001b[0m \u001b[0;34m\u001b[0m\u001b[0m\n\u001b[0;32m--> 427\u001b[0;31m             \u001b[0mself\u001b[0m\u001b[0;34m.\u001b[0m\u001b[0m_condition\u001b[0m\u001b[0;34m.\u001b[0m\u001b[0mwait\u001b[0m\u001b[0;34m(\u001b[0m\u001b[0mtimeout\u001b[0m\u001b[0;34m)\u001b[0m\u001b[0;34m\u001b[0m\u001b[0;34m\u001b[0m\u001b[0m\n\u001b[0m\u001b[1;32m    428\u001b[0m \u001b[0;34m\u001b[0m\u001b[0m\n\u001b[1;32m    429\u001b[0m             \u001b[0;32mif\u001b[0m \u001b[0mself\u001b[0m\u001b[0;34m.\u001b[0m\u001b[0m_state\u001b[0m \u001b[0;32min\u001b[0m \u001b[0;34m[\u001b[0m\u001b[0mCANCELLED\u001b[0m\u001b[0;34m,\u001b[0m \u001b[0mCANCELLED_AND_NOTIFIED\u001b[0m\u001b[0;34m]\u001b[0m\u001b[0;34m:\u001b[0m\u001b[0;34m\u001b[0m\u001b[0;34m\u001b[0m\u001b[0m\n",
            "\u001b[0;32m/usr/lib/python3.6/threading.py\u001b[0m in \u001b[0;36mwait\u001b[0;34m(self, timeout)\u001b[0m\n\u001b[1;32m    293\u001b[0m         \u001b[0;32mtry\u001b[0m\u001b[0;34m:\u001b[0m    \u001b[0;31m# restore state no matter what (e.g., KeyboardInterrupt)\u001b[0m\u001b[0;34m\u001b[0m\u001b[0;34m\u001b[0m\u001b[0m\n\u001b[1;32m    294\u001b[0m             \u001b[0;32mif\u001b[0m \u001b[0mtimeout\u001b[0m \u001b[0;32mis\u001b[0m \u001b[0;32mNone\u001b[0m\u001b[0;34m:\u001b[0m\u001b[0;34m\u001b[0m\u001b[0;34m\u001b[0m\u001b[0m\n\u001b[0;32m--> 295\u001b[0;31m                 \u001b[0mwaiter\u001b[0m\u001b[0;34m.\u001b[0m\u001b[0macquire\u001b[0m\u001b[0;34m(\u001b[0m\u001b[0;34m)\u001b[0m\u001b[0;34m\u001b[0m\u001b[0;34m\u001b[0m\u001b[0m\n\u001b[0m\u001b[1;32m    296\u001b[0m                 \u001b[0mgotit\u001b[0m \u001b[0;34m=\u001b[0m \u001b[0;32mTrue\u001b[0m\u001b[0;34m\u001b[0m\u001b[0;34m\u001b[0m\u001b[0m\n\u001b[1;32m    297\u001b[0m             \u001b[0;32melse\u001b[0m\u001b[0;34m:\u001b[0m\u001b[0;34m\u001b[0m\u001b[0;34m\u001b[0m\u001b[0m\n",
            "\u001b[0;31mKeyboardInterrupt\u001b[0m: "
          ]
        }
      ]
    },
    {
      "cell_type": "markdown",
      "metadata": {
        "id": "c3m3Bod82JqB",
        "colab_type": "text"
      },
      "source": [
        "<p> The result above shows us a fuller report. </p>"
      ]
    },
    {
      "cell_type": "code",
      "metadata": {
        "id": "JZdbwtGW2JqB",
        "colab_type": "code",
        "colab": {}
      },
      "source": [
        ""
      ],
      "execution_count": 0,
      "outputs": []
    },
    {
      "cell_type": "code",
      "metadata": {
        "id": "ld3Vzf-S2JqD",
        "colab_type": "code",
        "colab": {}
      },
      "source": [
        ""
      ],
      "execution_count": 0,
      "outputs": []
    }
  ]
}