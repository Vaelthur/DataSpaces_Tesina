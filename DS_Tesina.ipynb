{
  "nbformat": 4,
  "nbformat_minor": 0,
  "metadata": {
    "kernelspec": {
      "display_name": "Python 3",
      "language": "python",
      "name": "python3"
    },
    "language_info": {
      "codemirror_mode": {
        "name": "ipython",
        "version": 3
      },
      "file_extension": ".py",
      "mimetype": "text/x-python",
      "name": "python",
      "nbconvert_exporter": "python",
      "pygments_lexer": "ipython3",
      "version": "3.7.3"
    },
    "colab": {
      "name": "DS_Tesina.ipynb",
      "provenance": [],
      "collapsed_sections": [],
      "include_colab_link": true
    }
  },
  "cells": [
    {
      "cell_type": "markdown",
      "metadata": {
        "id": "view-in-github",
        "colab_type": "text"
      },
      "source": [
        "<a href=\"https://colab.research.google.com/github/Vaelthur/DataSpaces_Tesina/blob/master/DS_Tesina.ipynb\" target=\"_parent\"><img src=\"https://colab.research.google.com/assets/colab-badge.svg\" alt=\"Open In Colab\"/></a>"
      ]
    },
    {
      "cell_type": "markdown",
      "metadata": {
        "id": "lVqe9DcBJBAM",
        "colab_type": "text"
      },
      "source": [
        "# Breast cancer classification\n",
        "\n",
        "## Table of Contents\n",
        "0. [Introduction](#0.-Introduction)\n",
        "1. [Imports Section](#1.-Imports-section)\n",
        "2. [Functions](#2.-Functions)\n",
        "3. [Data Acquisition & Description](#3.-Data-Acquisition-&-Description)\n",
        "4. [Dataset Analisys](#4.-Dataset-Analisys)\n",
        "5. [Preprocessing](#5.-Preprocessing)\n",
        "6. [Classification & Parameters Tuning](#6.-Classification-&-Parameters-Tuning)"
      ]
    },
    {
      "cell_type": "markdown",
      "metadata": {
        "id": "Dv6KHHCrJdbC",
        "colab_type": "text"
      },
      "source": [
        "### 0. Introduction"
      ]
    },
    {
      "cell_type": "markdown",
      "metadata": {
        "id": "Nqa6GL8FJhxp",
        "colab_type": "text"
      },
      "source": [
        "The aim of this work is to classify breast cancer records in the provided dataset to determine wether a tumor is benignat or malignant. \n",
        "<br>\n",
        "Features in this dataset are mostly referred to cells of the human body, describing their size, shape and characteristics. "
      ]
    },
    {
      "cell_type": "markdown",
      "metadata": {
        "id": "GO224RoA2Jpl",
        "colab_type": "text"
      },
      "source": [
        "### 1. Imports section"
      ]
    },
    {
      "cell_type": "code",
      "metadata": {
        "id": "UiAbswaq2Jpl",
        "colab_type": "code",
        "colab": {}
      },
      "source": [
        "# warning suppression\n",
        "import warnings\n",
        "warnings.simplefilter(action='ignore', category=FutureWarning)\n",
        "\n",
        "# general imports\n",
        "import numpy as np\n",
        "import pandas as pd\n",
        "import scipy as sp\n",
        "from sklearn.base import clone\n",
        "from scipy.spatial.distance import mahalanobis\n",
        "\n",
        "# dataset balancing imports\n",
        "from imblearn.over_sampling import SMOTE\n",
        "from imblearn.under_sampling import RandomUnderSampler\n",
        "\n",
        "# classification imports \n",
        "from sklearn import neighbors, model_selection, metrics, preprocessing\n",
        "from sklearn.metrics import classification_report\n",
        "from sklearn.linear_model import LogisticRegression\n",
        "from sklearn.ensemble import RandomForestClassifier\n",
        "from sklearn.svm import SVC\n",
        "from sklearn.model_selection import GridSearchCV\n",
        "\n",
        "# plots imports\n",
        "import seaborn as sn\n",
        "from matplotlib import pyplot as plt"
      ],
      "execution_count": 0,
      "outputs": []
    },
    {
      "cell_type": "markdown",
      "metadata": {
        "id": "WgOdL3N2HWKD",
        "colab_type": "text"
      },
      "source": [
        "### 2. Functions"
      ]
    },
    {
      "cell_type": "markdown",
      "metadata": {
        "id": "PvEFxEPt6ld8",
        "colab_type": "text"
      },
      "source": [
        "Plotting function to show classifier in a graphic way: <br>\n",
        "Trains classifier on just two parameters in order to show it in a 2-dimensional plot."
      ]
    },
    {
      "cell_type": "code",
      "metadata": {
        "id": "_v1C73Lt6lKo",
        "colab_type": "code",
        "colab": {}
      },
      "source": [
        "def plotClassifierResults(clf, title):\n",
        "    X = X_train[:, :2]\n",
        "    x_min, x_max = X[:, 0].min() - 1, X[:, 0].max() + 1\n",
        "    y_min, y_max = X[:, 1].min() - 1, X[:, 1].max() + 1\n",
        "    xx, yy = np.meshgrid(np.arange(x_min, x_max, .02), np.arange(y_min, y_max, .02))\n",
        "    \n",
        "    clf.fit(X, Y_train)\n",
        "    Z=clf.predict(np.c_[xx.ravel(), yy.ravel()])\n",
        "    Z=Z.reshape(xx.shape)\n",
        "    plt.figure(figsize=[10,10])\n",
        "    plt.contourf(xx, yy, Z, cmap=plt.cm.RdYlGn, alpha=0.8)\n",
        "    plt.scatter(X[:,0], X[:,1], c=Y_train, cmap=plt.cm.RdYlGn, s=20, edgecolors='k')\n",
        "    plt.xlim(xx.min(), xx.max())\n",
        "    plt.ylim(yy.min(), yy.max())\n",
        "    plt.xlabel('Clump Thickness')\n",
        "    plt.ylabel('Uniformity of Cell Shape')\n",
        "    plt.xticks(())\n",
        "    plt.yticks(())\n",
        "    plt.title(title)\n",
        "    plt.show()"
      ],
      "execution_count": 0,
      "outputs": []
    },
    {
      "cell_type": "markdown",
      "metadata": {
        "id": "HKXDB4_yG_X0",
        "colab_type": "text"
      },
      "source": [
        "Check class balance function:\n",
        "<br>\n",
        "This function just takes in the target of the datset and plots the two possible clasisfications, then shows the percentages."
      ]
    },
    {
      "cell_type": "code",
      "metadata": {
        "id": "Hr5droWoHIvN",
        "colab_type": "code",
        "colab": {}
      },
      "source": [
        "def checkClassBalance(data_tgt):\n",
        "  class1 = data_tgt[data_tgt == 2]\n",
        "  class2 = data_tgt[data_tgt == 4]\n",
        "  plt.hist(class1, color='blue', width=0.5)\n",
        "  plt.hist(class2, color='green', width=0.5)\n",
        "  plt.show()\n",
        "  print(\"Percentage of 2 and 4 are: \", class1.shape[0]/data_tgt.shape[0]*100, \"% and \", class2.shape[0]/data_tgt.shape[0]*100,\"%\")"
      ],
      "execution_count": 0,
      "outputs": []
    },
    {
      "cell_type": "markdown",
      "metadata": {
        "id": "XgXw6Hd12Jpr",
        "colab_type": "text"
      },
      "source": [
        "Find and remove outliers using Mahalanobis Distance functions\n",
        "Apply this function just to the Training set.\n",
        "\n",
        "This function calculates the Mahalanobis distance for each record in the dataset and then using the 68-95-99.7 rule calculates the standard deviation for this array and multiplies it by 2 (or 3 if we want to be in the <i>extreme</i> situation where we kepp the 99.7% of the dataset) and -2 to find the two thresholds. If some value of the distance vector goeas over or upper these thresholds it is considered as an outlier and thus taken out."
      ]
    },
    {
      "cell_type": "code",
      "metadata": {
        "id": "ah3JvEVm2Jps",
        "colab_type": "code",
        "colab": {}
      },
      "source": [
        "def mahalanobisDist(X,meanCol,IC):\n",
        "  # calculate Mahalanobis distance for each row of the dataset\n",
        "    m = []\n",
        "    for i in range(X.shape[0]):\n",
        "        m.append(mahalanobis(X.iloc[i,:],meanCol,IC) ** 2)\n",
        "    return(m)\n",
        "\n",
        "def detectOutliersMD(MD, data, extreme=False):\n",
        "  std = np.std(MD)\n",
        "\n",
        "  # I'll use te 68-95-99.7 rule to detect outliers\n",
        "\n",
        "  k = 3. *std if extreme else 2. * std\n",
        "  m = np.mean(MD)\n",
        "  up_t = m+k\n",
        "  low_t = m-k \n",
        "\n",
        "  outliers = []\n",
        "\n",
        "  for i in range(len(MD)):\n",
        "    if (MD[i] >= up_t or MD[i] <= low_t):\n",
        "      outliers.append(i) #index\n",
        "  return np.array(outliers)\n",
        "\n",
        "def is_pos_def(A):\n",
        "    if np.allclose(A, A.T):\n",
        "        try:\n",
        "            np.linalg.cholesky(A)\n",
        "            return True\n",
        "        except np.linalg.LinAlgError:\n",
        "            return False\n",
        "    else:\n",
        "        return False\n",
        "\n",
        "def detectAndDeleteOutliers(data, tgt):\n",
        "\n",
        "  CM = data.cov().values # covariance matrix\n",
        "  if (is_pos_def(CM)):\n",
        "    print(\"CovMatrix is positive definite\")\n",
        "  else: print(\"CovMatrix is not positive definite, please use another outlier detection method\")\n",
        "  ICM = sp.linalg.inv(CM) # inverse of the covariance matrix\n",
        "  if (is_pos_def(ICM)):\n",
        "    print(\"Inverse of CovMatrix is positive definite\")\n",
        "  else: print(\"Inverse of CovMatrix is not positive definite, please use another outlier detection method\")\n",
        "\n",
        "  mean = data.mean().values # mean of each feature\n",
        "\n",
        "  mD = mahalanobisDist(data,mean,ICM) # array of mahalanobis distances\n",
        "\n",
        "  outliers = detectOutliersMD(mD, data)\n",
        "\n",
        "  # perform a reset index on data to return to avoid crashes and errors\n",
        "  cleanDs = data.reset_index(drop=True)\n",
        "  cleanTgt = tgt.reset_index(drop=True)\n",
        "\n",
        "  # drop index outliers in both data and target\n",
        "  cleanDs = cleanDs.drop(index=outliers)\n",
        "  cleanTgt = cleanTgt.drop(index=outliers)\n",
        "\n",
        "  print(\"Training dataset size before OutlierDetection: \", data.shape[0], \"\\nTraining dataset size after OutlierDetection: \", cleanDs.shape[0])\n",
        "\n",
        "  return cleanDs, cleanTgt\n"
      ],
      "execution_count": 0,
      "outputs": []
    },
    {
      "cell_type": "markdown",
      "metadata": {
        "id": "donrKj_AHa9H",
        "colab_type": "text"
      },
      "source": [
        "### 3. Data Acquisition & Description"
      ]
    },
    {
      "cell_type": "markdown",
      "metadata": {
        "id": "YAFD6QCe2Jpo",
        "colab_type": "text"
      },
      "source": [
        "<p> Read .csv file <p>"
      ]
    },
    {
      "cell_type": "code",
      "metadata": {
        "scrolled": false,
        "id": "JdEyBvh12Jpp",
        "colab_type": "code",
        "colab": {}
      },
      "source": [
        "# read data from file\n",
        "filename = \"https://raw.githubusercontent.com/Vaelthur/DataSpaces_Tesina/master/breast-cancer-wisconsin.data\"\n",
        "\n",
        "data = pd.read_csv(filename)\n",
        "\n",
        "labels = [\"Sample Number\",\"Clump Thickness\", \"Uniformity of Cell Size\", \"Uniformity of Cell Shape\", \"Marginal Adhesion\", \"Single Epithelial Cell Size\", \"Bare Nuclei\", \"Bland Chromatin\", \"Normal Nucleoli\", \n",
        "\"Mitoses\", \"Class\"]\n",
        "\n",
        "# assing labels to columns\n",
        "data.columns = labels\n",
        "\n",
        "# records with the classification as \"2\" are Benign cancer, \"4\" means malign Cancer."
      ],
      "execution_count": 0,
      "outputs": []
    },
    {
      "cell_type": "markdown",
      "metadata": {
        "id": "kp-nColZi92E",
        "colab_type": "text"
      },
      "source": [
        "<b>Dataset feature description and analisys<b>"
      ]
    },
    {
      "cell_type": "markdown",
      "metadata": {
        "id": "QGsxJ-X6jNJ9",
        "colab_type": "text"
      },
      "source": [
        "- **Sample code number**: code number used to identify patients \n",
        "- **Clump Thickness**: Benign cells tend to be grouped in monolayers, while cancerous cells are often grouped in multilayers. \n",
        "- **Uniformity of Cell Size**: Cancer cells tend to vary in size\n",
        "- **Uniformity of Cell Shape**: Cancer cells tend to vary in shape\n",
        "- **Marginal Adhesion**: Normal cells tend to stick together. Cancer cells tends to lose this ability: loss of adhesion is a sign of malignancy. \n",
        "- **Single Epithelial Cell Size**: related to the uniformity mentioned above. Epithelial cells that are significantly enlarged may be malignant. \n",
        "- **Bare Nuclei**: Nuclei which are not surrounded by cytoplasm (i.e. the rest of the cell). Those are typically seen in benign tumors.\n",
        "- **Bland Chromatin**: Describes a uniform \"texture\" of the nucleus seen in benign cells. In cancer cells the chromatin tends to be more coarse\n",
        "- **Normal Nucleoli**:  Nucleoli are small structures seen in the nucleus. In normal cells the nucleolus is usually very small if visible at all. In cancer cells the nucleoli become more prominent, and sometimes there are more of them.\n",
        "- **Mitoses**: Nuclear division plus cytokinesis which produces two identical cell daughters. Mitosis is more frequent and disregulated in cancer cells than in healthy ones\n",
        "- **Class**: classification of the cancer : 2 for benign, 4 for malignant\n"
      ]
    },
    {
      "cell_type": "markdown",
      "metadata": {
        "id": "EZJ2BPXpHjk5",
        "colab_type": "text"
      },
      "source": [
        "### 4. Dataset Analisys"
      ]
    },
    {
      "cell_type": "markdown",
      "metadata": {
        "id": "HzBW2CNPCvC1",
        "colab_type": "text"
      },
      "source": [
        "Detecting if there are any missing value "
      ]
    },
    {
      "cell_type": "code",
      "metadata": {
        "id": "R6fLq2GiCuor",
        "colab_type": "code",
        "outputId": "e7e9bf7e-e92f-4e63-b681-9a64317340b4",
        "colab": {
          "base_uri": "https://localhost:8080/",
          "height": 153
        }
      },
      "source": [
        "print(\"Raw data shape as taken from repo:\")\n",
        "print(data.shape)\n",
        "data = (data.drop(labels,axis=1)).join(data[labels].apply(pd.to_numeric, errors='coerce'))\n",
        "data = data[data[labels].notnull().all(axis=1)]\n",
        "print(\"\\nData shape without null values\")\n",
        "print(data.shape)\n",
        "\n",
        "# remove first column as it is just sample number that identify the patient\n",
        "data = data.iloc[:, 1:11]\n",
        "print(\"\\nData shape without first Column \\\"Sample Number\\\" which is just a number that identifies the patient and is not useful for us.\")\n",
        "print(data.shape)"
      ],
      "execution_count": 6,
      "outputs": [
        {
          "output_type": "stream",
          "text": [
            "Raw data shape as taken from repo:\n",
            "(698, 11)\n",
            "\n",
            "Data shape without null values\n",
            "(682, 11)\n",
            "\n",
            "Data shape without first Column \"Sample Number\" which is just a number that identifies the patient and is not useful for us.\n",
            "(682, 10)\n"
          ],
          "name": "stdout"
        }
      ]
    },
    {
      "cell_type": "markdown",
      "metadata": {
        "id": "CWTrLjA6Ob3H",
        "colab_type": "text"
      },
      "source": [
        "As stated in the dataset description there should have been some missing values, denoted by the non numerical value <i>'?'</i>. Knowing this I have been able to perform the search for missing value just looking for non-numerical values and (since there were just 16) dropping the corresponding rows. "
      ]
    },
    {
      "cell_type": "markdown",
      "metadata": {
        "id": "idS5tZKLMPoF",
        "colab_type": "text"
      },
      "source": [
        "Plotting the distribution between the two classes in the dataset and observe the results."
      ]
    },
    {
      "cell_type": "code",
      "metadata": {
        "id": "sW-p9wQlZHBK",
        "colab_type": "code",
        "outputId": "02098390-1df4-47d8-8518-65e5c9f25522",
        "colab": {
          "base_uri": "https://localhost:8080/",
          "height": 282
        }
      },
      "source": [
        "clss = data.iloc[:, 9]\n",
        "checkClassBalance(clss)"
      ],
      "execution_count": 7,
      "outputs": [
        {
          "output_type": "display_data",
          "data": {
            "image/png": "[encoded data removed]",
            "text/plain": [
              "<Figure size 432x288 with 1 Axes>"
            ]
          },
          "metadata": {
            "tags": [],
            "needs_background": "light"
          }
        },
        {
          "output_type": "stream",
          "text": [
            "Percentage of 2 and 4 are:  64.95601173020528 % and  35.043988269794724 %\n"
          ],
          "name": "stdout"
        }
      ]
    },
    {
      "cell_type": "markdown",
      "metadata": {
        "id": "t3FYKtAoLzAu",
        "colab_type": "text"
      },
      "source": [
        "Observing the percentage of the two classes we can identify this dataset as imbalanced since the two classes go over the 60/40 ratio so it's not acceptable and we need to provide some more balance i.e.\n",
        "- undersample out dataset in order to achieve the balance between classes\n",
        "- using library to artificially generate data to balance class, but new data must only be used during the training process and not during validation or test phases."
      ]
    },
    {
      "cell_type": "markdown",
      "metadata": {
        "id": "mOMyhUIonUq-",
        "colab_type": "text"
      },
      "source": [
        "<p>Correlation Matrix to study correlation between data.</p>"
      ]
    },
    {
      "cell_type": "code",
      "metadata": {
        "id": "17d4NxYLnUD0",
        "colab_type": "code",
        "outputId": "5f6d9765-db45-4eb7-f153-94798281c206",
        "colab": {
          "base_uri": "https://localhost:8080/",
          "height": 728
        }
      },
      "source": [
        "cm = data.corr() # Compute pairwise correlation of columns\n",
        "mask = np.array(cm)\n",
        "mask[np.tril_indices_from(mask)] = False\n",
        "fig = plt.gcf()\n",
        "fig.set_size_inches(25,10)\n",
        "sn.heatmap(data=cm, mask=mask, square=True, annot=True, cbar=True)"
      ],
      "execution_count": 8,
      "outputs": [
        {
          "output_type": "execute_result",
          "data": {
            "text/plain": [
              "<matplotlib.axes._subplots.AxesSubplot at 0x7f7bc0a16b38>"
            ]
          },
          "metadata": {
            "tags": []
          },
          "execution_count": 8
        },
        {
          "output_type": "display_data",
          "data": {
            "image/png": "[encoded data removed]",
            "text/plain": [
              "<Figure size 1800x720 with 2 Axes>"
            ]
          },
          "metadata": {
            "tags": [],
            "needs_background": "light"
          }
        }
      ]
    },
    {
      "cell_type": "markdown",
      "metadata": {
        "id": "D43o8mUfy1Yg",
        "colab_type": "text"
      },
      "source": [
        "We can observe that the correlation coefficients are generally good, with the Mitoses feature to be the more uncorrelated with a coeffient of 0.42.\n",
        "Thanks to this matrix we can see which features are more correlated with each other respect to others. We notice from here that <i>Uniformity of cell size</i> and <i>Uniformity of cell shape</i> features are highly correlated with each other, so we can drop one."
      ]
    },
    {
      "cell_type": "code",
      "metadata": {
        "id": "WN6uXD37ELZR",
        "colab_type": "code",
        "colab": {}
      },
      "source": [
        "data.drop('Uniformity of Cell Shape', axis=1, inplace=True)"
      ],
      "execution_count": 0,
      "outputs": []
    },
    {
      "cell_type": "markdown",
      "metadata": {
        "id": "d2HEg1bF2Jpw",
        "colab_type": "text"
      },
      "source": [
        "Reading the dataset description and observing the values inside it we can see that every feature is already scaled in a range between 1 and 10, so we can affirm that data is already scaled because we have the same scale for each feature. (Plus we don't need to operate further scaling to the data before applying the SVM with the RBF kernel)\n",
        "\n",
        "Knowing this, the <b>preprocessing</b> phase consist just in the split between train and Test sets and the further Train set balancing."
      ]
    },
    {
      "cell_type": "markdown",
      "metadata": {
        "id": "0V2WQYuQHwai",
        "colab_type": "text"
      },
      "source": [
        "### 5. Preprocessing"
      ]
    },
    {
      "cell_type": "code",
      "metadata": {
        "id": "_SX9Mcc_2Jpw",
        "colab_type": "code",
        "outputId": "75c21e91-d483-4c18-e751-77d03844828e",
        "colab": {
          "base_uri": "https://localhost:8080/",
          "height": 649
        }
      },
      "source": [
        "Y = data.iloc[:, 8]\n",
        "X = data.iloc[:, 0:8]\n",
        "\n",
        "X_train, X_test, Y_train, Y_test = model_selection.train_test_split(X, Y, random_state=np.random.randint(0,100), test_size=0.25, shuffle=True)\n",
        "\n",
        "checkClassBalance(Y_train)\n",
        "print()\n",
        "\n",
        "X_train, Y_train = detectAndDeleteOutliers(X_train, Y_train)\n",
        "\n",
        "print()\n",
        "checkClassBalance(Y_train)"
      ],
      "execution_count": 10,
      "outputs": [
        {
          "output_type": "display_data",
          "data": {
            "image/png": "[encoded data removed]",
            "text/plain": [
              "<Figure size 432x288 with 1 Axes>"
            ]
          },
          "metadata": {
            "tags": [],
            "needs_background": "light"
          }
        },
        {
          "output_type": "stream",
          "text": [
            "Percentage of 2 and 4 are:  64.38356164383562 % and  35.61643835616438 %\n",
            "\n",
            "CovMatrix is positive definite\n",
            "Inverse of CovMatrix is positive definite\n",
            "Training dataset size before OutlierDetection:  511 \n",
            "Training dataset size after OutlierDetection:  483\n",
            "\n"
          ],
          "name": "stdout"
        },
        {
          "output_type": "display_data",
          "data": {
            "image/png": "[encoded data removed]",
            "text/plain": [
              "<Figure size 432x288 with 1 Axes>"
            ]
          },
          "metadata": {
            "tags": [],
            "needs_background": "light"
          }
        },
        {
          "output_type": "stream",
          "text": [
            "Percentage of 2 and 4 are:  68.11594202898551 % and  31.88405797101449 %\n"
          ],
          "name": "stdout"
        }
      ]
    },
    {
      "cell_type": "markdown",
      "metadata": {
        "id": "qKATte1frOla",
        "colab_type": "text"
      },
      "source": [
        "Now that I have observed the difference in distribution between the two classes in my training set I have two options: I can either undersample my dataset or artifically augment it in order to have more training samples.\n",
        "\n",
        "In the following I tried to augment my data using SMOTE to generate new samples, but I noticed that many algorithms overfit with this method, so I'll try undersampling my data instead of augmenting it."
      ]
    },
    {
      "cell_type": "code",
      "metadata": {
        "id": "dEd95X2urL0t",
        "colab_type": "code",
        "colab": {}
      },
      "source": [
        "# 1st attempt: augment training data and go on with classification\n",
        "\n",
        "# oversample = SMOTE()\n",
        "# X_train, Y_train = oversample.fit_resample(X,Y)\n",
        "\n",
        "# checkClassBalance(Y_train)\n",
        "\n",
        "# OVERFITS"
      ],
      "execution_count": 0,
      "outputs": []
    },
    {
      "cell_type": "markdown",
      "metadata": {
        "id": "22Xok1oHbItp",
        "colab_type": "text"
      },
      "source": [
        "Here I will undersample my datasets by taking out some samples from the majority class in order to even it with the minority class, since the artificial augmentation of the dataset had my classifiers overfit."
      ]
    },
    {
      "cell_type": "code",
      "metadata": {
        "id": "xEO4JCz9bIWQ",
        "colab_type": "code",
        "outputId": "54446987-a484-4c81-b2f0-cfe634bea292",
        "colab": {
          "base_uri": "https://localhost:8080/",
          "height": 284
        }
      },
      "source": [
        "rus = RandomUnderSampler(random_state=0)\n",
        "X_train, Y_train = rus.fit_resample(X_train, Y_train)\n",
        "\n",
        "checkClassBalance(Y_train)"
      ],
      "execution_count": 12,
      "outputs": [
        {
          "output_type": "display_data",
          "data": {
            "image/png": "[encoded data removed]",
            "text/plain": [
              "<Figure size 432x288 with 1 Axes>"
            ]
          },
          "metadata": {
            "tags": [],
            "needs_background": "light"
          }
        },
        {
          "output_type": "stream",
          "text": [
            "Percentage of 2 and 4 are:  50.0 % and  50.0 %\n"
          ],
          "name": "stdout"
        }
      ]
    },
    {
      "cell_type": "markdown",
      "metadata": {
        "id": "AU__pmgW2IUe",
        "colab_type": "text"
      },
      "source": [
        "In the following cells we will analysze how well classifiers do with our dataset. In order to do so we will pay attention especially to values of precision and recall, more than to the overall accuracy.\n",
        "<br>\n",
        "Let's give some informations about these two parameters: \n",
        "\n",
        "<i>Precision</i>: this value is given by the formula TP/(TP+FP) and answers the question \"What percentage of positive classifications were actually correct?\"\n",
        "\n",
        "<i>Recall</i>: this value s given by the formula TP/(TP+FN) and answers the question \"What percentage of actual positives were classified correctly?\"\n",
        "\n",
        "In order to evaluate the best performance we will focus more on the precision and recall values for what concerns the class '4' that are malignant tumors. This is because it is more important to find out is a tumor is malignant than if it is benignant. \n",
        "<br>"
      ]
    },
    {
      "cell_type": "markdown",
      "metadata": {
        "id": "UwUkQn6OH3zN",
        "colab_type": "text"
      },
      "source": [
        "###6. Classification & Parameters Tuning"
      ]
    },
    {
      "cell_type": "markdown",
      "metadata": {
        "id": "ZMIebd3i2Jp1",
        "colab_type": "text"
      },
      "source": [
        "<u>Logistic Regression</u>"
      ]
    },
    {
      "cell_type": "code",
      "metadata": {
        "id": "MF0n46z92Jp2",
        "colab_type": "code",
        "outputId": "f8476dc5-9a38-45c3-e16b-18c3419fcc27",
        "colab": {
          "base_uri": "https://localhost:8080/",
          "height": 775
        }
      },
      "source": [
        "logReg = LogisticRegression() # instance of the model\n",
        "\n",
        "# cross validation to prevent overfitting\n",
        "kf = model_selection.KFold(n_splits=5)\n",
        "\n",
        "accuracy = []\n",
        "\n",
        "for tr_ind, te_ind in kf.split(X_train):\n",
        "  X_t, X_v = X_train[tr_ind], X_train[te_ind]\n",
        "  Y_t, Y_v = Y_train[tr_ind], Y_train[te_ind]\n",
        "  logReg.fit(X_t, Y_t)\n",
        "  accuracy.append(metrics.accuracy_score(Y_v, logReg.predict(X_v), normalize=True)*100)\n",
        "\n",
        "logReg2 = clone(logReg)\n",
        "\n",
        "plotClassifierResults(logReg2, \"Logistic Regression\")\n",
        "\n",
        "print(\"Accuracy: \", logReg.score(X_test, Y_test))\n",
        "print(classification_report(Y_test, logReg.predict(X_test)))"
      ],
      "execution_count": 13,
      "outputs": [
        {
          "output_type": "display_data",
          "data": {
            "image/png": "[encoded data removed]",
            "text/plain": [
              "<Figure size 720x720 with 1 Axes>"
            ]
          },
          "metadata": {
            "tags": []
          }
        },
        {
          "output_type": "stream",
          "text": [
            "Accuracy:  0.9824561403508771\n",
            "              precision    recall  f1-score   support\n",
            "\n",
            "           2       0.97      1.00      0.99       114\n",
            "           4       1.00      0.95      0.97        57\n",
            "\n",
            "    accuracy                           0.98       171\n",
            "   macro avg       0.99      0.97      0.98       171\n",
            "weighted avg       0.98      0.98      0.98       171\n",
            "\n"
          ],
          "name": "stdout"
        }
      ]
    },
    {
      "cell_type": "markdown",
      "metadata": {
        "id": "68mlFxXbAfhT",
        "colab_type": "text"
      },
      "source": [
        "Almost no parameter tuning for Logistic Regression is possible, so I'll just try differe numbers for the max_iterations parameter (200 and 500 besides the default 100 iterations)"
      ]
    },
    {
      "cell_type": "code",
      "metadata": {
        "id": "wTjPUXJmA2Px",
        "colab_type": "code",
        "outputId": "234e8576-55b5-4772-ee14-0a3164ea5719",
        "colab": {
          "base_uri": "https://localhost:8080/",
          "height": 204
        }
      },
      "source": [
        "parameters = [{'max_iter' : [200, 500]}]\n",
        "\n",
        "lrGS = GridSearchCV(LogisticRegression(), parameters, n_jobs=-1, cv=5)\n",
        "\n",
        "# Here the function GridSearch CV already performs a KFold cross validation on the dataset\n",
        "lrGS.fit(X_train, Y_train)\n",
        "\n",
        "print(classification_report(Y_test, lrGS.predict(X_test)),\"\\n\")\n",
        "\n",
        "print(\"Best parameters are: \",lrGS.best_params_)"
      ],
      "execution_count": 14,
      "outputs": [
        {
          "output_type": "stream",
          "text": [
            "              precision    recall  f1-score   support\n",
            "\n",
            "           2       0.97      0.99      0.98       114\n",
            "           4       0.98      0.95      0.96        57\n",
            "\n",
            "    accuracy                           0.98       171\n",
            "   macro avg       0.98      0.97      0.97       171\n",
            "weighted avg       0.98      0.98      0.98       171\n",
            " \n",
            "\n",
            "Best parameters are:  {'max_iter': 200}\n"
          ],
          "name": "stdout"
        }
      ]
    },
    {
      "cell_type": "markdown",
      "metadata": {
        "id": "A9vmd3bY2Jp5",
        "colab_type": "text"
      },
      "source": [
        "<u> Random forest</u>"
      ]
    },
    {
      "cell_type": "code",
      "metadata": {
        "scrolled": true,
        "id": "UoqXcIjn2Jp6",
        "colab_type": "code",
        "outputId": "99b00749-5a4e-4193-94b8-fdd7914367cb",
        "colab": {
          "base_uri": "https://localhost:8080/",
          "height": 792
        }
      },
      "source": [
        "rndFor = RandomForestClassifier()\n",
        "\n",
        "accuracy = []\n",
        "\n",
        "for tr_ind, te_ind in kf.split(X_train):\n",
        "  X_t, X_v = X_train[tr_ind], X_train[te_ind]\n",
        "  Y_t, Y_v = Y_train[tr_ind], Y_train[te_ind]\n",
        "  rndFor.fit(X_t, Y_t)\n",
        "  accuracy.append(metrics.accuracy_score(Y_v, rndFor.predict(X_v), normalize=True)*100)\n",
        "\n",
        "y_pred = rndFor.predict(X_test)\n",
        "\n",
        "rndFor2 = clone(rndFor)\n",
        "\n",
        "plotClassifierResults(rndFor2, 'Random Forest')\n",
        "\n",
        "print(\"\\nAccuracy: \", metrics.accuracy_score(Y_test, y_pred))\n",
        "print(classification_report(Y_test, rndFor.predict(X_test)))"
      ],
      "execution_count": 15,
      "outputs": [
        {
          "output_type": "display_data",
          "data": {
            "image/png": "[encoded data removed]",
            "text/plain": [
              "<Figure size 720x720 with 1 Axes>"
            ]
          },
          "metadata": {
            "tags": []
          }
        },
        {
          "output_type": "stream",
          "text": [
            "\n",
            "Accuracy:  0.9824561403508771\n",
            "              precision    recall  f1-score   support\n",
            "\n",
            "           2       0.98      0.99      0.99       114\n",
            "           4       0.98      0.96      0.97        57\n",
            "\n",
            "    accuracy                           0.98       171\n",
            "   macro avg       0.98      0.98      0.98       171\n",
            "weighted avg       0.98      0.98      0.98       171\n",
            "\n"
          ],
          "name": "stdout"
        }
      ]
    },
    {
      "cell_type": "markdown",
      "metadata": {
        "id": "4KmHrELBuPjP",
        "colab_type": "text"
      },
      "source": [
        "Those were the results without any kind of parameter tuning and optimization. Now I will perform a GridSearchCrossValidation for the randomForest classifier using different set of paramteres."
      ]
    },
    {
      "cell_type": "code",
      "metadata": {
        "id": "RPSjqgzhuPAr",
        "colab_type": "code",
        "outputId": "aa930e2e-a0d6-4506-b8d7-3d42149c2a0f",
        "colab": {
          "base_uri": "https://localhost:8080/",
          "height": 204
        }
      },
      "source": [
        "parameters = [{'n_estimators': [50,100,200], 'criterion': ['gini', 'entropy'], 'min_samples_split': [2, 4, 5], 'max_features': ['sqrt', 'log2']}]\n",
        "rfGS = GridSearchCV(RandomForestClassifier(), parameters, n_jobs=-1, cv=5)\n",
        "\n",
        "# Here the function GridSearch CV already performs a KFold cross validation on the dataset\n",
        "rfGS.fit(X_train, Y_train)\n",
        "\n",
        "print(classification_report(Y_test, rfGS.predict(X_test)),\"\\n\")\n",
        "\n",
        "print(\"Best parameters are: \",rfGS.best_params_)"
      ],
      "execution_count": 16,
      "outputs": [
        {
          "output_type": "stream",
          "text": [
            "              precision    recall  f1-score   support\n",
            "\n",
            "           2       0.99      0.99      0.99       114\n",
            "           4       0.98      0.98      0.98        57\n",
            "\n",
            "    accuracy                           0.99       171\n",
            "   macro avg       0.99      0.99      0.99       171\n",
            "weighted avg       0.99      0.99      0.99       171\n",
            " \n",
            "\n",
            "Best parameters are:  {'criterion': 'gini', 'max_features': 'sqrt', 'min_samples_split': 5, 'n_estimators': 200}\n"
          ],
          "name": "stdout"
        }
      ]
    },
    {
      "cell_type": "markdown",
      "metadata": {
        "id": "0YABn3bm2Jp8",
        "colab_type": "text"
      },
      "source": [
        "<p><u> SVM</u> </p>"
      ]
    },
    {
      "cell_type": "code",
      "metadata": {
        "id": "kKKVE9E82Jp9",
        "colab_type": "code",
        "outputId": "7e15d426-37f4-4fb4-cf85-027c5b0b2a9e",
        "colab": {
          "base_uri": "https://localhost:8080/",
          "height": 775
        }
      },
      "source": [
        "svc = SVC(gamma='auto', kernel='rbf')\n",
        "kf = model_selection.KFold(n_splits=7)\n",
        "\n",
        "accuracy = []\n",
        "\n",
        "for tr_ind, te_ind in kf.split(X_train):\n",
        "  X_t, X_v = X_train[tr_ind], X_train[te_ind]\n",
        "  Y_t, Y_v = Y_train[tr_ind], Y_train[te_ind]\n",
        "  svc.fit(X_t, Y_t)\n",
        "  accuracy.append(metrics.accuracy_score(Y_v, svc.predict(X_v), normalize=True)*100)\n",
        "\n",
        "svc2 = clone(svc)\n",
        "\n",
        "plotClassifierResults(svc2, 'SVM with rbf kernel')\n",
        "\n",
        "print(classification_report(Y_test, svc.predict(X_test)),\"\\n\")"
      ],
      "execution_count": 17,
      "outputs": [
        {
          "output_type": "display_data",
          "data": {
            "image/png": "[encoded data removed]",
            "text/plain": [
              "<Figure size 720x720 with 1 Axes>"
            ]
          },
          "metadata": {
            "tags": []
          }
        },
        {
          "output_type": "stream",
          "text": [
            "              precision    recall  f1-score   support\n",
            "\n",
            "           2       0.99      0.93      0.96       114\n",
            "           4       0.88      0.98      0.93        57\n",
            "\n",
            "    accuracy                           0.95       171\n",
            "   macro avg       0.93      0.96      0.94       171\n",
            "weighted avg       0.95      0.95      0.95       171\n",
            " \n",
            "\n"
          ],
          "name": "stdout"
        }
      ]
    },
    {
      "cell_type": "markdown",
      "metadata": {
        "id": "CRaMOf5m2Jp_",
        "colab_type": "text"
      },
      "source": [
        "So this is the accuracy with the default parameters, but it is necessary to perform some parameters tuning in order to achieve better results.\n",
        "\n"
      ]
    },
    {
      "cell_type": "code",
      "metadata": {
        "scrolled": true,
        "id": "teTBZ_m42Jp_",
        "colab_type": "code",
        "outputId": "d66977e4-53c8-4346-ad25-4ccfbfc8a8e3",
        "colab": {
          "base_uri": "https://localhost:8080/",
          "height": 255
        }
      },
      "source": [
        "parameters = [{'C': [0.1, 0.2, 1, 10, 100, 1000], 'gamma': [0.0001, 0.001, 0.01, 0.1, 0.25, 1], 'kernel': ['rbf', 'poly']}]\n",
        "svcGS = GridSearchCV(SVC(), parameters, n_jobs=-1, cv=7)\n",
        "\n",
        "# Here the function GridSearch CV already performs a KFold cross validation on the dataset\n",
        "svcGS.fit(X_train, Y_train)\n",
        "\n",
        "print(classification_report(Y_test, svcGS.predict(X_test)),\"\\n\")\n",
        "\n",
        "print(\"Confusion Matrix\")\n",
        "print(metrics.confusion_matrix(Y_test, svcGS.predict(X_test)))\n",
        "\n",
        "print(\"Best parameters are: \",svcGS.best_params_)"
      ],
      "execution_count": 18,
      "outputs": [
        {
          "output_type": "stream",
          "text": [
            "              precision    recall  f1-score   support\n",
            "\n",
            "           2       0.97      0.97      0.97       114\n",
            "           4       0.95      0.95      0.95        57\n",
            "\n",
            "    accuracy                           0.96       171\n",
            "   macro avg       0.96      0.96      0.96       171\n",
            "weighted avg       0.96      0.96      0.96       171\n",
            " \n",
            "\n",
            "Confusion Matrix\n",
            "[[111   3]\n",
            " [  3  54]]\n",
            "Best parameters are:  {'C': 100, 'gamma': 0.001, 'kernel': 'rbf'}\n"
          ],
          "name": "stdout"
        }
      ]
    }
  ]
}